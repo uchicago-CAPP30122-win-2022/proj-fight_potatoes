{
 "cells": [
  {
   "cell_type": "code",
   "execution_count": 2,
   "metadata": {},
   "outputs": [],
   "source": [
    "import numpy as np\n",
    "import sklearn\n",
    "from sklearn.linear_model import LinearRegression as lr\n",
    "from sklearn.feature_extraction.text import CountVectorizer\n",
    "from sklearn.ensemble import RandomForestClassifier\n",
    "from sklearn import datasets\n",
    "from sklearn.model_selection import cross_val_score\n",
    "from sklearn.linear_model import LogisticRegression\n",
    "from sklearn.linear_model import LinearRegression\n",
    "from sklearn.neighbors import KNeighborsClassifier\n",
    "from sklearn.svm import SVC\n",
    "from sklearn.metrics import accuracy_score\n",
    "import statsmodels.api as sm"
   ]
  },
  {
   "cell_type": "code",
   "execution_count": 2,
   "metadata": {},
   "outputs": [],
   "source": [
    "# import modeling_part_1"
   ]
  },
  {
   "cell_type": "code",
   "execution_count": 3,
   "metadata": {},
   "outputs": [],
   "source": [
    "import modeling_preparing_data"
   ]
  },
  {
   "cell_type": "code",
   "execution_count": 4,
   "metadata": {},
   "outputs": [],
   "source": [
    "############################## INPUT #######################################\n",
    "\n",
    "# TRAINING_DATES = [214, 215, 216, 217, 218, 222, 223, 224, 225, 228, 301, 302]\n",
    "TRAINING_DATES = [214, 215, 216, 217]\n",
    "# TESTING_DATES = [303, 304]\n",
    "TESTING_DATES = [301,302]\n",
    "Y_FILENAME = 'data/S&P_update.csv'\n",
    "TOPIC = \"china\"\n",
    "STOCK = \"Close\" # \"Close\" refer to SP500"
   ]
  },
  {
   "cell_type": "code",
   "execution_count": null,
   "metadata": {},
   "outputs": [],
   "source": []
  },
  {
   "cell_type": "code",
   "execution_count": null,
   "metadata": {},
   "outputs": [],
   "source": []
  },
  {
   "cell_type": "code",
   "execution_count": null,
   "metadata": {},
   "outputs": [],
   "source": []
  },
  {
   "cell_type": "code",
   "execution_count": 5,
   "metadata": {},
   "outputs": [],
   "source": [
    "class TrainingModel:\n",
    "    \"\"\"\n",
    "    \"\"\"\n",
    "    \n",
    "    def __init__(self, model_name, dates = TRAINING_DATES, topic = TOPIC, datafile = Y_FILENAME, stock = STOCK, test_date = TESTING_DATES):\n",
    "        \"\"\"\n",
    "        \"\"\"\n",
    "        self.training_data = modeling_preparing_data.collect_all_x_and_y(dates, topic, datafile, stock)\n",
    "        self.true_y = None\n",
    "        self.date = dates\n",
    "        self.topic = topic\n",
    "        self.fitted_value = None\n",
    "        if test_date:\n",
    "            self.testing_data = modeling_preparing_data.collect_all_x_and_y(test_date, topic, datafile, stock)\n",
    "            self.prediction = None\n",
    "            self.test_accuracy = None\n",
    "            self.true_testing_y = None            \n",
    "        self.model = self.model_building(model_name, topic, test_date)\n",
    "        self.R2 = sklearn.metrics.r2_score(self.true_y, self.fitted_value)\n",
    "        \n",
    "\n",
    "    def model_building(self, model_name, topic, test):\n",
    "        \"\"\"\n",
    "        \"\"\"\n",
    "        y_dummy, y_num, Xs, corpus = self.training_data\n",
    "\n",
    "        if model_name == \"linear\":\n",
    "            X2 = sm.add_constant(Xs)\n",
    "#             print(y_num,X2)\n",
    "            model_1 = sm.OLS(y_num,X2)\n",
    "            model = model_1.fit()\n",
    "            self.true_y = self.training_data[1]\n",
    "            self.fitted_value = model.predict()\n",
    "            if test:\n",
    "                test_x = self.testing_data[2]\n",
    "                update_test_x = sm.add_constant(test_x) \n",
    "                self.prediction = model.predict(update_test_x)\n",
    "                self.true_testing_y = self.testing_data[1]\n",
    "                self.test_accuracy = \"Not application for linear model\"\n",
    "            \n",
    "    #     print(model_2.summary())\n",
    "\n",
    "        elif model_name == \"logistic\":\n",
    "            logreg = LogisticRegression(random_state=42)\n",
    "            model = logreg.fit(Xs, y_dummy)\n",
    "            self.true_y = self.training_data[0]\n",
    "            self.fitted_value = model.predict(self.training_data[2])\n",
    "            if test:\n",
    "                self.prediction = model.predict(self.testing_data[2])\n",
    "                self.true_testing_y = self.testing_data[0]\n",
    "                self.test_accuracy = accuracy_score(self.true_testing_y, self.prediction)\n",
    "\n",
    "        elif model_name == \"KNN\":\n",
    "            neigh = KNeighborsClassifier(n_neighbors = 2) # CAN SELECT?\n",
    "            model = neigh.fit(Xs, y_dummy)\n",
    "            self.true_y = self.training_data[0]\n",
    "            self.fitted_value = model.predict(self.training_data[2])\n",
    "            if test:\n",
    "                self.prediction = model.predict(self.testing_data[2])\n",
    "                self.true_testing_y = self.testing_data[0]\n",
    "                self.test_accuracy = accuracy_score(self.true_testing_y, self.prediction)\n",
    "\n",
    "        else:\n",
    "            svm_linear = SVC( kernel = 'linear')\n",
    "            model = svm_linear.fit(Xs, y_dummy)\n",
    "            self.true_y = self.training_data[0]\n",
    "            self.fitted_value = model.predict(self.training_data[2])\n",
    "            if test:\n",
    "                self.prediction = model.predict(self.testing_data[2])\n",
    "                self.true_testing_y = self.testing_data[0]\n",
    "                self.test_accuracy = accuracy_score(self.true_testing_y, self.prediction)\n",
    "\n",
    "        return model\n",
    "    \n",
    "#     def selection_on_X(self, selection):\n",
    "#         pass\n"
   ]
  },
  {
   "cell_type": "code",
   "execution_count": 6,
   "metadata": {},
   "outputs": [],
   "source": [
    "svm_model = TrainingModel(\"SVM\")"
   ]
  },
  {
   "cell_type": "code",
   "execution_count": null,
   "metadata": {},
   "outputs": [],
   "source": [
    "def random_forest_text_classification(corpus, y_dummy):\n",
    "    \"\"\"\n",
    "    \n",
    "    \"\"\"\n",
    "    \n",
    "    vectorizer = CountVectorizer(min_df=1)\n",
    "    X = vectorizer.fit_transform(corpus).toarray()\n",
    "    clf = RandomForestClassifier()\n",
    "    model = clf.fit(X, y_dummy)\n",
    "#   clf.predict(vectorizer.transform(['apple is present']).toarray())\n",
    "    return model"
   ]
  },
  {
   "cell_type": "code",
   "execution_count": null,
   "metadata": {},
   "outputs": [],
   "source": []
  },
  {
   "cell_type": "code",
   "execution_count": null,
   "metadata": {},
   "outputs": [],
   "source": []
  },
  {
   "cell_type": "code",
   "execution_count": null,
   "metadata": {},
   "outputs": [],
   "source": []
  },
  {
   "cell_type": "code",
   "execution_count": null,
   "metadata": {},
   "outputs": [],
   "source": []
  },
  {
   "cell_type": "code",
   "execution_count": null,
   "metadata": {},
   "outputs": [],
   "source": []
  },
  {
   "cell_type": "code",
   "execution_count": null,
   "metadata": {},
   "outputs": [],
   "source": []
  },
  {
   "cell_type": "code",
   "execution_count": null,
   "metadata": {},
   "outputs": [],
   "source": []
  },
  {
   "cell_type": "code",
   "execution_count": null,
   "metadata": {},
   "outputs": [],
   "source": []
  },
  {
   "cell_type": "code",
   "execution_count": null,
   "metadata": {},
   "outputs": [],
   "source": []
  },
  {
   "cell_type": "code",
   "execution_count": null,
   "metadata": {},
   "outputs": [],
   "source": []
  }
 ],
 "metadata": {
  "kernelspec": {
   "display_name": "Python 3",
   "language": "python",
   "name": "python3"
  },
  "language_info": {
   "codemirror_mode": {
    "name": "ipython",
    "version": 3
   },
   "file_extension": ".py",
   "mimetype": "text/x-python",
   "name": "python",
   "nbconvert_exporter": "python",
   "pygments_lexer": "ipython3",
   "version": "3.7.4"
  }
 },
 "nbformat": 4,
 "nbformat_minor": 2
}
