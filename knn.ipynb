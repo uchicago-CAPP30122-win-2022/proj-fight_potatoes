{
 "cells": [
  {
   "cell_type": "code",
   "execution_count": 38,
   "metadata": {},
   "outputs": [],
   "source": [
    "from textblob import TextBlob\n",
    "import csv\n",
    "import ast\n",
    "import os\n",
    "import math\n",
    "import sys\n",
    "import re\n",
    "import pandas as pd\n",
    "import numpy as np\n",
    "import sklearn\n",
    "from sklearn.preprocessing import StandardScaler\n",
    "from sklearn.model_selection import train_test_split\n",
    "from sklearn.neighbors import KNeighborsClassifier\n",
    "from sklearn.svm import SVC\n",
    "from sklearn.model_selection import cross_val_score\n",
    "import matplotlib.pyplot as plt\n",
    "import knn\n",
    "STOP_WORDS = [\"a\", \"an\", \"the\", \"this\", \"that\", \"of\", \"for\", \"or\",\n",
    "              \"and\", \"on\", \"to\", \"be\", \"if\", \"we\", \"you\", \"in\", \"is\",\n",
    "              \"at\", \"it\", \"rt\", \"mt\", \"with\"]"
   ]
  },
  {
   "cell_type": "code",
   "execution_count": 4,
   "metadata": {},
   "outputs": [],
   "source": [
    "tweets = knn.read_data()\n",
    "tweets['text_clean'] = tweets['content'].apply(knn.cleaner)\n",
    "tweets['popular'] = tweets['popularity'].apply(knn.popular)\n"
   ]
  },
  {
   "cell_type": "code",
   "execution_count": 5,
   "metadata": {},
   "outputs": [],
   "source": [
    "sent = []\n",
    "sub = []\n",
    "for tweet in tweets.text_clean:    \n",
    "    blob = TextBlob(tweet)    \n",
    "    sent.append(blob.sentiment[0])\n",
    "    sub.append(blob.sentiment[1])\n",
    "# add to tweets df\n",
    "tweets['sentiment'] = pd.Series(sent)\n",
    "tweets['subjectivity'] = pd.Series(sub)\n",
    "\n",
    "# aggregate data by day\n",
    "tweets['date'] = pd.to_datetime(tweets['Date']).dt.date\n"
   ]
  },
  {
   "cell_type": "code",
   "execution_count": 6,
   "metadata": {},
   "outputs": [],
   "source": [
    "# scale by popular\n",
    "tweets.loc[tweets['popular'] == 0, ['popular']] = 1\n",
    "tweets['sent_mult'] = tweets['sentiment'] * tweets['popular']\n",
    "\n",
    "x_1 = tweets[['sent_mult']].values.astype(float)\n",
    "scaler = StandardScaler().fit(x_1)\n",
    "scaled_data = scaler.transform(x_1)\n",
    "\n",
    "tweets['sent_mult_scaled'] = scaled_data"
   ]
  },
  {
   "cell_type": "code",
   "execution_count": 7,
   "metadata": {},
   "outputs": [],
   "source": [
    "# remove neutral tweets and aggregate by day\n",
    "tweets1 = tweets[(tweets[['sentiment']] != 0).all(axis=1)]\n",
    "tweets1 = tweets1.groupby('date').agg('mean')\n",
    "# drop irrelevant cols\n",
    "tweets1.drop(['id1', 'id2'], axis = 1, inplace = True)"
   ]
  },
  {
   "cell_type": "code",
   "execution_count": 8,
   "metadata": {},
   "outputs": [],
   "source": [
    "# sp 500 data\n",
    "sp = pd.read_csv('Download Data - INDEX_US_S&P US_SPX_update.csv', header = 0, thousands=',')\n",
    "sp['date'] = pd.to_datetime(sp['Date']).dt.date\n",
    "sp.drop('Date', axis = 1, inplace = True)\n",
    "\n",
    "sp['change'] = (sp['Close'] - sp['Open']) / sp['Open'] * 100.0\n",
    "# scale\n",
    "stock_1 = sp[['change']].values.astype(float)\n",
    "scaler = StandardScaler().fit(stock_1)\n",
    "scaled_data = scaler.transform(stock_1)\n",
    "sp['change_scaled'] = scaled_data"
   ]
  },
  {
   "cell_type": "code",
   "execution_count": 9,
   "metadata": {},
   "outputs": [],
   "source": [
    "# merge stock and tweet data\n",
    "df = tweets1.merge(sp, how = \"inner\", on = \"date\")\n",
    "\n",
    "forecast_col = 'change'\n",
    "forecast_out = int(math.ceil(0.067 * len(df)))\n",
    "df['Predicted_change_stock'] = df[forecast_col].shift(-forecast_out)\n",
    "\n",
    "buy_or_sell = []\n",
    "\n",
    "for row in df['change']:\n",
    "    if row >= 0:\n",
    "        buy_or_sell.append(1)\n",
    "    elif row < 0:\n",
    "        buy_or_sell.append(-1) \n",
    "\n",
    "#Adds -1 or +1 to the column based on if 'Predicted_change' is negative or positive\n",
    "df['Buy/Sell'] = buy_or_sell\n",
    "\n",
    "# The 'Buy/Sell' values need to be shifted up one row to match the 'Predicted_change' values\n",
    "df['Buy/Sell'] = df['Buy/Sell'].shift(-1)\n",
    "df.dropna(axis = 0, inplace = True)"
   ]
  },
  {
   "cell_type": "code",
   "execution_count": 19,
   "metadata": {},
   "outputs": [
    {
     "name": "stdout",
     "output_type": "stream",
     "text": [
      "KNeighborsClassifier(n_neighbors=2)\n",
      "1.0\n"
     ]
    }
   ],
   "source": [
    "# train/test split\n",
    "x_train, x_test, y_train, y_test = train_test_split(df[['sent_mult_scaled', 'subjectivity']], df['Buy/Sell'], test_size = 0.2, random_state = 42)\n",
    "neigh = KNeighborsClassifier(n_neighbors=2)\n",
    "neigh.fit(x_train, y_train)\n",
    "neigh.score(x_test, y_test)\n",
    "print(neigh.score(x_test, y_test))"
   ]
  },
  {
   "cell_type": "code",
   "execution_count": 36,
   "metadata": {},
   "outputs": [
    {
     "name": "stdout",
     "output_type": "stream",
     "text": [
      "0.375\n"
     ]
    },
    {
     "name": "stderr",
     "output_type": "stream",
     "text": [
      "/usr/local/lib/python3.8/dist-packages/sklearn/model_selection/_split.py:676: UserWarning: The least populated class in y has only 3 members, which is less than n_splits=4.\n",
      "  warnings.warn(\n"
     ]
    }
   ],
   "source": [
    "neigh_cv = cross_val_score(neigh, x_train, y_train, cv=4) \n",
    "print(neigh_cv.mean()) "
   ]
  },
  {
   "cell_type": "code",
   "execution_count": 26,
   "metadata": {},
   "outputs": [
    {
     "name": "stdout",
     "output_type": "stream",
     "text": [
      "Minimum error:- 0.0 at K = 2\n"
     ]
    },
    {
     "data": {
      "image/png": "[encoded data removed]",
      "text/plain": [
       "<Figure size 720x432 with 1 Axes>"
      ]
     },
     "metadata": {
      "needs_background": "light"
     },
     "output_type": "display_data"
    }
   ],
   "source": [
    "error_rate = []\n",
    "for i in range(1, 4):\n",
    "    knn = KNeighborsClassifier(n_neighbors=i)\n",
    "    knn.fit(x_train,y_train)\n",
    "    pred_i = knn.predict(x_test)\n",
    "    error_rate.append(np.mean(pred_i != y_test))\n",
    "\n",
    "plt.figure(figsize=(10, 6))\n",
    "plt.plot(range(1, 4), error_rate, color = 'blue', linestyle = 'dashed', \n",
    "         marker = 'o',markerfacecolor = 'red', markersize = 10)\n",
    "plt.title('Error Rate vs. K Value')\n",
    "plt.xlabel('K')\n",
    "plt.ylabel('Error Rate')\n",
    "print(\"Minimum error:-\", min(error_rate),\"at K =\", error_rate.index(min(error_rate)) + 1)\n",
    "plt.show()\n"
   ]
  },
  {
   "cell_type": "code",
   "execution_count": 42,
   "metadata": {},
   "outputs": [
    {
     "name": "stdout",
     "output_type": "stream",
     "text": [
      "0.375\n"
     ]
    }
   ],
   "source": [
    "svm_linear = SVC(kernel = 'linear')\n",
    "svm_linear.fit(x_train, y_train)\n",
    "svm_linear.score(x_test, y_test)\n",
    "svm_linear_cv = cross_val_score(svm_linear, x_train, y_train, cv=2)\n",
    "print(svm_linear_cv.mean())"
   ]
  },
  {
   "cell_type": "code",
   "execution_count": 43,
   "metadata": {},
   "outputs": [
    {
     "name": "stdout",
     "output_type": "stream",
     "text": [
      "0.375\n"
     ]
    }
   ],
   "source": [
    "svm_rbf = SVC(kernel = 'rbf')\n",
    "svm_rbf.fit(x_train, y_train)\n",
    "svm_rbf.score(x_test, y_test)\n",
    "svm_rbf = cross_val_score(svm_rbf, x_train, y_train, cv=2)\n",
    "print(svm_rbf.mean())"
   ]
  }
 ],
 "metadata": {
  "interpreter": {
   "hash": "31f2aee4e71d21fbe5cf8b01ff0e069b9275f58929596ceb00d14d90e3e16cd6"
  },
  "kernelspec": {
   "display_name": "Python 3",
   "language": "python",
   "name": "python3"
  },
  "language_info": {
   "codemirror_mode": {
    "name": "ipython",
    "version": 3
   },
   "file_extension": ".py",
   "mimetype": "text/x-python",
   "name": "python",
   "nbconvert_exporter": "python",
   "pygments_lexer": "ipython3",
   "version": "3.8.5"
  },
  "orig_nbformat": 4
 },
 "nbformat": 4,
 "nbformat_minor": 2
}
