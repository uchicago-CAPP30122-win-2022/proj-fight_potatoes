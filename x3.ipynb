{
 "cells": [
  {
   "cell_type": "code",
   "execution_count": 5,
   "metadata": {
    "scrolled": true
   },
   "outputs": [],
   "source": [
    "import textblob\n",
    "import csv\n",
    "import pandas as pd\n",
    "import re\n",
    "import numpy as np"
   ]
  },
  {
   "cell_type": "code",
   "execution_count": 6,
   "metadata": {},
   "outputs": [],
   "source": [
    "def get_weighted_ps_indicator(filename):\n",
    "    \"\"\"\n",
    "    take average directly\n",
    "    \n",
    "    input:\n",
    "        filename: string, for example: \"data/tweets_china_021422.csv\"\n",
    "        \n",
    "    return(tuple): average polarity and average subjectivity\n",
    "    \"\"\"\n",
    "    \n",
    "    tweets = pd.read_csv(filename)\n",
    "    tweets.columns = [\"time\",\"id1\",\"id2\",\"popularity\",\"content\"]\n",
    "    total_polarity = 0\n",
    "    total_subjectivity = 0\n",
    "    num_tweets = 0\n",
    "    corpus = ''\n",
    "\n",
    "    for idx, row in tweets.iterrows():\n",
    "        text = row[\"popularity\"]\n",
    "        if not text:\n",
    "            break\n",
    "        weight = re.search(r\"(?<='like_count': )\\w+\", text)  ############ mutable\n",
    "        weight = 1 + int(weight.group(0)) ############ mutable\n",
    "        blob = textblob.TextBlob(row[\"content\"])\n",
    "        polarity, subjectivity = blob.sentiment\n",
    "        total_polarity += polarity * weight\n",
    "        total_subjectivity += subjectivity * weight\n",
    "        num_tweets += weight\n",
    "        if weight > 500:    ######## mutable\n",
    "            corpus += row[\"content\"]\n",
    "\n",
    "    ave_polarity = total_polarity / num_tweets \n",
    "    ave_subjectivity = total_subjectivity / num_tweets \n",
    "    \n",
    "    return ave_polarity, ave_subjectivity, corpus"
   ]
  },
  {
   "cell_type": "code",
   "execution_count": 7,
   "metadata": {},
   "outputs": [],
   "source": [
    "def collect_y(dates, y_datafile, stock):\n",
    "    \"\"\"\n",
    "    \"\"\"\n",
    "\n",
    "    y_num = []\n",
    "    y_dummy = [] \n",
    "\n",
    "    for idx, day in enumerate(dates):\n",
    "        day = str(day)\n",
    "        day_text = \"0\"+f\"{day[0]}\"+\"/\"+f\"{day[1:]}\"+\"/2022\"\n",
    "        if idx == 0:\n",
    "            #print(day_text)\n",
    "            #print(y_datafile.index)\n",
    "            #print(y_datafile.index.get_loc(day_text))\n",
    "            preceding_index = y_datafile.index.get_loc(day_text) + 1\n",
    "            preceding_date = y_datafile.index[preceding_index]\n",
    "            y_num.append(y_datafile.loc[preceding_date][stock])\n",
    "        y_num.append(y_datafile.loc[day_text][stock])\n",
    "\n",
    "    starting_y = y_num[0]        \n",
    "    for y in y_num[1:]:\n",
    "        if y > starting_y:\n",
    "            y_dummy.append(1)\n",
    "        else:\n",
    "            y_dummy.append(0)\n",
    "        starting_y = y\n",
    "        \n",
    "    y_num = np.array(y_num[1:])\n",
    "    \n",
    "    return y_dummy, y_num\n",
    "    "
   ]
  },
  {
   "cell_type": "code",
   "execution_count": 8,
   "metadata": {},
   "outputs": [],
   "source": [
    "def collect_x(dates, topic):\n",
    "    \"\"\"\n",
    "    \"\"\"\n",
    "    all_ave_polarity = []\n",
    "    all_ave_subjectivity = []\n",
    "    corpus = []\n",
    "    for date in dates:\n",
    "        filename = f\"data/tweets_{topic}_0{date}22.csv\"\n",
    "        ave_polarity, ave_subjectivity, corpus_sub = get_weighted_ps_indicator(filename)\n",
    "        all_ave_polarity.append(ave_polarity)\n",
    "        all_ave_subjectivity.append(ave_subjectivity)\n",
    "        corpus.append(corpus_sub)\n",
    "    Xs = np.column_stack([all_ave_polarity, all_ave_subjectivity])\n",
    "    \n",
    "    return Xs, corpus\n",
    "    \n",
    "    "
   ]
  },
  {
   "cell_type": "code",
   "execution_count": 9,
   "metadata": {},
   "outputs": [],
   "source": [
    "y_data_file = pd.read_csv(\"data/SP500_constituents_update.csv\")"
   ]
  },
  {
   "cell_type": "code",
   "execution_count": 10,
   "metadata": {},
   "outputs": [],
   "source": [
    "y_data_file.set_index(\"Date\", inplace = True)"
   ]
  },
  {
   "cell_type": "code",
   "execution_count": 23,
   "metadata": {},
   "outputs": [],
   "source": [
    "def five_Days(date,stock):\n",
    "    stock_price = []\n",
    "    for i in range(5):\n",
    "        preceding_index = y_data_file.index.get_loc(date) + (i+1)\n",
    "        preceding_date = y_data_file.index[preceding_index]\n",
    "        new = y_data_file.loc[preceding_date][stock] \n",
    "        stock_price.append(new)\n",
    "    sum = 0\n",
    "    for s in stock_price:\n",
    "        sum += s\n",
    "    return sum / len(stock_price)"
   ]
  },
  {
   "cell_type": "code",
   "execution_count": 24,
   "metadata": {
    "scrolled": false
   },
   "outputs": [
    {
     "data": {
      "text/plain": [
       "3597.7567952"
      ]
     },
     "execution_count": 24,
     "metadata": {},
     "output_type": "execute_result"
    }
   ],
   "source": [
    "five_Days('02/28/2022',\"Materials\")"
   ]
  },
  {
   "cell_type": "code",
   "execution_count": 25,
   "metadata": {},
   "outputs": [],
   "source": [
    "def five_days_stock_price(dates,stock):\n",
    "    price_list = []\n",
    "    for d in dates:\n",
    "        day = str(d)\n",
    "        day_text = \"0\"+f\"{day[0]}\"+\"/\"+f\"{day[1:]}\"+\"/2022\"\n",
    "        p = five_Days(day_text,stock)\n",
    "        price_list.append(p)\n",
    "    return price_list"
   ]
  },
  {
   "cell_type": "code",
   "execution_count": 26,
   "metadata": {},
   "outputs": [
    {
     "data": {
      "text/plain": [
       "[3599.7960534, 3597.7567952]"
      ]
     },
     "execution_count": 26,
     "metadata": {},
     "output_type": "execute_result"
    }
   ],
   "source": [
    "five_days_stock_price(['225','228'],\"Materials\")"
   ]
  },
  {
   "cell_type": "code",
   "execution_count": 29,
   "metadata": {},
   "outputs": [],
   "source": [
    "def get_x(dates,topic,stock):\n",
    "    '''\n",
    "    Input: dates in the format of list e.g. [215]\n",
    "    topic: \"covid\" or \"china\"\n",
    "    '''\n",
    "    all_ave_polarity = []\n",
    "    all_ave_subjectivity = []\n",
    "    corpus = []\n",
    "    for date in dates:\n",
    "        filename = f\"data/tweets_{topic}_0{date}22.csv\"\n",
    "        ave_polarity, ave_subjectivity, corpus_sub = get_weighted_ps_indicator(filename)\n",
    "        all_ave_polarity.append(ave_polarity)\n",
    "        all_ave_subjectivity.append(ave_subjectivity)\n",
    "        corpus.append(corpus_sub)\n",
    "    Xs = np.column_stack([all_ave_polarity, all_ave_subjectivity,five_days_stock_price(dates,stock)])\n",
    "    \n",
    "    return Xs, corpus"
   ]
  },
  {
   "cell_type": "code",
   "execution_count": 30,
   "metadata": {},
   "outputs": [
    {
     "data": {
      "text/plain": [
       "(array([[7.19697730e-02, 3.78728649e-01, 3.59775680e+03]]),\n",
       " ['b\\'Depressing to see Covid denial follow exactly the same trajectory as climate denial:\\\\n&gt; It\\\\xe2\\\\x80\\\\x99s not real\\\\n&gt; It\\\\xe2\\\\x80\\\\x99s real but not bad\\\\n&gt; It\\\\xe2\\\\x80\\\\x99s real &amp; bad but there\\\\xe2\\\\x80\\\\x99s nothing we can do\\\\n&gt; We could do something but it would inconvenience us (&amp; mostly help the more vulnerable) so not worth it\\'b\"Ukraine\\\\xe2\\\\x80\\\\x99s U.N. envoy Sirgiy Kyslytsya likens Vladimir Putin to Adolf Hitler, calls the Russian president\\'s decision to put nuclear forces on high alert \\\\xe2\\\\x80\\\\x98madness\\\\xe2\\\\x80\\\\x99 https://t.co/gyYHI0BslX https://t.co/QlGetVN1z0\"b\\'I made it through a pandemic without being vaccinated or catching covid. The government said this wasn\\\\xe2\\\\x80\\\\x99t possible, yet here I am.\\'b\\'Over 7,000,000,000 of us trapped on a single terrestrial surface speculating about one mind and its decision making. Also a virus we aren\\\\xe2\\\\x80\\\\x99t allowed to ask questions about.\\\\n\\\\nLet\\\\xe2\\\\x80\\\\x99s try this again, from before COVID and Putin\\\\xe2\\\\x80\\\\x99s nuclear High Alert:\\\\n\\\\nhttps://t.co/WhZZi2WyRe\\'b\"Hilariously, the protestors and their cheerleaders claiming victory over the ending of isolation for inbound travellers don\\'t seem to have grasped that those travellers are subject to ... a vaccine mandate. \\\\xf0\\\\x9f\\\\x98\\\\x82\"b\\'What happens to all the people who were fired for not getting the vaccine now that vaccine mandates are being lifted?\\'b\\'They will drop some of the Covid infringements now that it\\\\xe2\\\\x80\\\\x99s politically convenient and necessary, but they want to reserve the right to bring them back when their \\\\xe2\\\\x80\\\\x9cscience\\\\xe2\\\\x80\\\\x9d of control warrants it. Not good enough. These infringements must be ended and rejected, period!!\\'b\\'Where has Dr. Fauci disappeared to as all the lockdowns, covid vaccine passports and masking he\\\\xe2\\\\x80\\\\x99s championed for two years suddenly vanish? He\\\\xe2\\\\x80\\\\x99s in media hiding. Good riddance. https://t.co/38I07mycHR\\'b\\'Public health has quietly adopted the Ron DeSantis and Joe Rogan approach to COVID, but they\\\\xe2\\\\x80\\\\x99ll never admit it.\\'b\\'The capacity of some folk to weave #Covid &amp; #Brexit into every situation, crisis, question and challenge we face must be so exhausting for them.\\\\nIt is certainly tedious for the rest of us.\\'b\\'Nearly two full years after it became clear that universal contact tracing was a futile exercise for covid, the CDC changes its guidelines today to acknowledge reality.  \\\\n \\\\nhttps://t.co/3uW6bdhDpI https://t.co/HMk4tvSgTx\\'b\"I got covid a few weeks ago &amp; I\\'m finally feeling better &amp; ready to get back to streaming, it was a rough time since I had just recovered from bronchitis too. Thank you for all your patience, I appreciate it a lot \\\\xf0\\\\x9f\\\\x98\\\\xad I\\'m looking forward to regularly tormenting your minds again \\\\xf0\\\\x9f\\\\x92\\\\x9c\"b\\'It\\\\xe2\\\\x80\\\\x99s a State of the Union miracle!\\\\n\\\\nhttps://t.co/OxW7ue6vIH\\'b\\'How to gain followers fast &amp; repeat what happened in COVID, but w/ a war \\\\n\\\\n1. Put Ukrainian flag in your name or bio. Extra points for both \\\\n\\\\n2. Call everyone who disagrees with the official war hawk narrative \\\\xe2\\\\x80\\\\x9cpro-Putin\\\\xe2\\\\x80\\\\x9d. Extra points if you unfollow them\\\\n\\\\n3. Insert dildo up ass\\'b\\'Based on recent studies, those of us who refused to take this vaccine have been fully vindicated \\\\xe2\\\\x9c\\\\x94\\'b\\'The political science on covid is dictating all the changes. All of it, the masking, the vaccine mandates, the lockdowns, all bullshit that did nothing. And the American public has finally realized this, hence the massive shift in covid policy. https://t.co/PIRn2BwRDo\\'b\\'2020: Race was the focus and bad guy used to divide us\\\\n\\\\n2020-2022: Covid was the bad guy and was used to divide us \\\\n\\\\n2022: Putin is the focus and the bad guy used to divide us \\\\n\\\\nEverything distracts us, next crisis makes the last one fade, nobody is held responsible\\'b\\'\"Your chance of getting COVID from an infected vaccinated person are exactly the same as your chance of getting COVID from an infected unvaccinated person.\"\\\\nGet the full @foxnation interview with medical ethicist @akheriaty at https://t.co/ZL0UVkBjt5 https://t.co/5sZ7XKuQ3U\\'b\\'The same people who pushed the pandemic on you, that most ate up \\\\n\\\\nAre the same ones controlling the narrative on Ukraine \\\\n\\\\nAnd many after waking up from the scamdemic are falling right back into the safe arms of the propaganda global regime \\\\n\\\\nIt\\\\xe2\\\\x80\\\\x99s incredible to watch\\'b\\'Renewed my driver\\\\xe2\\\\x80\\\\x99s license today and bought a muffin at a bakery.\\\\n\\\\nAll without wearing a mask.\\\\n\\\\nCovid is over, people.\\'b\\'This is not covid social distancing. This is a man afraid of his own officials. Bizarre. https://t.co/7uLQlutW2x\\'b\\'Now I see why CDC rushed to ditch masks on Friday before the data was released today (Monday) that unboosted, low dose vaccine in 5-11yo wasn\\\\xe2\\\\x80\\\\x99t that effective. That way we wouldn\\\\xe2\\\\x80\\\\x99t see the connection and realize no one cares about kids or their families\\'b\"The US is so influential in Ukraine that when a Russia-allied Ukrainian politician brokered a deal for Russia to provide free COVID vaccines, Zelensky said no -- along with the State Department. Why does the State Department get a say in Ukraine\\'s COVID vaccine policy? https://t.co/sFfwNkAgMR\"b\"President Biden\\'s leadership in the Ukraine crisis has been truly impressive, we\\'re coming out of the pandemic at last, and we have a fine Supreme Court nominee.\\\\n\\\\nSo Democrats are carping at what hasn\\'t been done and liberals are indulging in fatalistic navel-gazing.\\\\n\\\\nNaturally.\"b\\'witches astral projecting to Ukraine and immediately getting shredded by half-sane Russian hermit saints who were only by their isolation kept from actual cannibalism in this life https://t.co/lH1PQRXxwT\\'b\\'So when are we getting rid of the mask mandate on airplanes? Just wondering when the political science will grant us back the freedoms we should\\\\xe2\\\\x80\\\\x99ve never given up in the first place\\\\xe2\\\\x80\\\\xa6.\\'b\\'Why did hospitalized covid patients get sent back to nursing homes in Mar. 2020, spreading the disease among the vulnerable? This is because epidemiologists and public health authorities mistakenly thought it was more important to protect hospitals than to protect the vulnerable.\\'b\\'Reminder that @andrewcuomo piled over 9,000 infected patients into nursing homes, actively tried to cover it up, gave VIP covid tests when nursing homes weren\\\\xe2\\\\x80\\\\x99t allowed any, sold a 5.1 M book and his made staff write it, and sexually harassed many women. https://t.co/w3mgl4zQaZ\\'b\\'Aaron Taylor-Johnson on the cover of Hero Magazine.\\\\n\\\\nHe will be in conversation with Andrew Garfield about lockdown, Spider-Man, Kraven the Hunter, and more.\\\\n\\\\n(via: @atjarchive) https://t.co/jeXStJwAKv\\'b\\'Phew. Relieved that COVID is ending tomorrow.\\'b\\'Islam Makhachev wants to settle the score with Rafael dos Anjos on short notice. \\\\xf0\\\\x9f\\\\x98\\\\xb1\\\\n\\\\n#UFC272 | More: https://t.co/CBnby42Ui8 https://t.co/L2Ys3NQopX\\'b\\'Enormous NY state C19 vax effectiveness (VE) analysis reveals that for 5 to 11 year olds (n &gt;365K), VE becomes NEGATIVE, i.e., is associated with a 41%\\\\xe2\\\\x86\\\\x91 in SARCOV2 infections within 7-weeks, during the omicron wave https://t.co/8GLzyLJsMc https://t.co/1sq27M4Hu7\\'b\\'Just found out I have COVID :(\\'b\"In the past many politicians survived because of the short-term memory of most voters. A year goes by and no one remembers. \\\\n\\\\nIf you people think we\\'re forgetting Covid...\\\\n\\\\nIf you think we\\'re forgetting stolen elections, sham impeachments, Afghanistan, being called racists...1/2\"b\\'Rafael Fiziev is out of his #UFC272 co-main event fight against Rafael dos Anjos due to testing positive for COVID-19.\\\\n\\\\nThe UFC has not announced whether Dos Anjos will remain on the UFC 272 card. (via @BOkamotoESPN)\\\\n\\\\nFirst reported by @ArielHelwani https://t.co/h3AQqhbClL\\'b\\'2020 we booked our flights to spend Easter in Kharkiv and return a day before my birthday, because of lockdown we cancelled the trip . 2021 we were still on lockdown! 2022 seems I will never see the town my husband was born . He wanted to show me his motherland! #Kharkiv\\'b\\'\"Don\\\\\\'t tell me that is based on science. That is COVID theater,\" @GovRonDeSantis says on masking up employees when no one else is wearing a mask in a business.\\'b\\'Fox News\\\\\\' promotion of the Canadian truckers protest ultimately came to more than 27 hours (!) -- but the network still hasn\\\\\\'t told its audience the PM Trudeau relinquished the emergency powers its hosts said made him a \"dictator\" https://t.co/8wI1yzH42G https://t.co/mesJCSLVYy\\'b\\'Somewhere in America right now, there\\\\xe2\\\\x80\\\\x99s a Democrat happily taking a COVID test made in China after dumping out their Russian vodka in solidarity with Ukraine. \\\\xf0\\\\x9f\\\\xa4\\\\xa1\\'b\\'Funny how all the people who once used to post about all their friends and relatives dying of COVID now post about all their friends and relatives in Ukraine. Bad luck I guess.\\'b\\'Just trying to keep up. I\\\\xe2\\\\x80\\\\x99m:\\\\n\\\\n1: Responsible for the pandemic\\\\n2: Don\\\\xe2\\\\x80\\\\x99t deserve to work because of my vaccine status.\\\\n3: Trying to stop black people from voting.\\\\n\\\\nDon\\\\xe2\\\\x80\\\\x99t ever ask me to \\\\xe2\\\\x80\\\\x9crally around\\\\xe2\\\\x80\\\\x9d Joe Biden. I wouldn\\\\xe2\\\\x80\\\\x99t piss on Joe Biden if he was on fire. What a piece of trash. https://t.co/Sqy4kb4WAE\\'b\"Today I sat with a tearful, suicidal teenager talking through what was going on, with a mask on. A mask I don\\'t need; I don\\'t have covid. She repeatedly said \\'pardon\\' and it was so hard to communicate with her compassionately behind it. It has to end. GP\\'s need to unmask now.\"'])"
      ]
     },
     "execution_count": 30,
     "metadata": {},
     "output_type": "execute_result"
    }
   ],
   "source": [
    "get_x(['228'],\"covid\",\"Materials\")"
   ]
  },
  {
   "cell_type": "code",
   "execution_count": 52,
   "metadata": {},
   "outputs": [],
   "source": [
    "def collect_all_x_and_y(dates, topics, y_filename, stocks):\n",
    "    \"\"\"\n",
    "    collect the dependent variable and independent variable of specified dates and topics average directly\n",
    "    \n",
    "    input:\n",
    "        dates: a list of dates, the date should only be trading dates.\n",
    "                for example, [214,215,216,217,218,222,223,224,225,228,301,302]\n",
    "        topic: string, either \"covid\" or \"china\"\n",
    "        y_filename: for example: 'data/S&P_update.csv'\n",
    "        \n",
    "    return(tuple): a tuple of average polarity and average subjectivity\n",
    "    \"\"\"\n",
    "    print(\"---> working on extracting sentiment indicator\")\n",
    "    x_dic = {}\n",
    "    for topic in topics:\n",
    "        print(topic)\n",
    "        x_dic[topic] = collect_x(dates, topic)\n",
    "        \n",
    "    print(\"---> working on extracting dependent variable\")\n",
    "    y_dic = {}\n",
    "    y_datafile = pd.read_csv(y_filename, header = 0, thousands=',')\n",
    "    y_datafile.set_index(\"Date\", inplace = True)\n",
    "    for stock in stocks:\n",
    "        y_dic[stock] = collect_y(dates, y_datafile, stock)\n",
    "    \n",
    "    return y_dic, x_dic\n"
   ]
  },
  {
   "cell_type": "code",
   "execution_count": 53,
   "metadata": {},
   "outputs": [
    {
     "name": "stdout",
     "output_type": "stream",
     "text": [
      "---> working on extracting sentiment indicator\n",
      "covid\n",
      "---> working on extracting dependent variable\n"
     ]
    },
    {
     "data": {
      "text/plain": [
       "({'Materials': ([1, 0], array([3658.736661, 3610.996264]))},\n",
       " {'covid': (array([[0.06189437, 0.39270619],\n",
       "          [0.07196977, 0.37872865]]),\n",
       "   ['b\\'If you\\\\xe2\\\\x80\\\\x99re looking for trusted voices to help you through this (hopefully not) World War III, I wouldn\\\\xe2\\\\x80\\\\x99t lean on those who vehemently supported Covid MANDATES\\\\n\\\\nThey\\\\xe2\\\\x80\\\\x99re the ones who sang for your enslavement via digital ID, serving their WEF masters. And they\\\\xe2\\\\x80\\\\x99re still trying now.\\'b\\'Yes. Both sides can lay down arms. Back to the table, please. Show us some light at the end of the tunnel\\\\xe2\\\\x80\\\\xa6The world deserves some respite after a pandemic\\\\xe2\\\\x80\\\\xa6 https://t.co/5jWiQUPDIH\\'b\\'Zelenskiy calls Europeans to the streets to put pressure on governments too slow to help Ukraine. \"Annulling Russians\\\\\\' visas? Turning off from SWIFT? Complete isolation of Russia? Withdrawing ambassadors? Oil embargo? Closing its airspace? Today everything should be on the table\" https://t.co/YfZ23i34qX\\'b\\'\\\\xe2\\\\x9a\\\\xa1\\\\xef\\\\xb8\\\\x8fZelensky: \\\\xe2\\\\x80\\\\x9cEurope has enough strength to stop this aggression.\\\\xe2\\\\x80\\\\x9d\\\\n\\\\n\\\\xe2\\\\x80\\\\x9cVisa cancelations for Russians, cutting them from SWIFT, a total isolation of Russia, recalling ambassadors, embargo on petroleum, imposing a no-fly zone, this must be in the table.\\\\xe2\\\\x80\\\\x9d\\'b\\'#BheemlaNayak USA premieres gross is $858,664 from 342 locations. \\\\n\\\\nIt\\\\xe2\\\\x80\\\\x99s USA top 7th Telugu cinema after BB2, AGV, BB1, KN150, Spyder &amp; Saaho. \\\\n\\\\nIt\\\\xe2\\\\x80\\\\x99s a sensational opening. That\\\\xe2\\\\x80\\\\x99s too after pandemic! \\\\n\\\\nPSPK mania grips Telugu movie lovers in USA. \\\\xf0\\\\x9f\\\\x94\\\\xa5\\\\xf0\\\\x9f\\\\x87\\\\xba\\\\xf0\\\\x9f\\\\x87\\\\xb8\\'b\\'Russian Special Forces have a special mandate: \\\\n\\\\nto prevent by all means that former Prime Minister Turchynov flees the country. \\\\n\\\\nAfter his capture, he will be tried for WAR CRIMES and for unleashing the war on Donbass.\\'b\\'Top 5 Day 1 GROSS in TamilNadu:\\\\n\\\\n1. The UNBEATEN #Sarkar since 2018\\\\n\\\\n2. #Valimai (2022) With 100% occupancy \\\\n\\\\n3. #Master (With 50% occupancy and Peak Pandemic situation) - 2021\\\\n\\\\n4. #Bigil (2019)\\\\n\\\\n5. #Mersal (2017)\\\\n\\\\n4/5 are #ThalapathyVijay movies \\\\xf0\\\\x9f\\\\x98\\\\x8e\\'b\\'This afternoon, I held a meeting for schools in Mumbai to resume from March, with pre- covid timings, attendance, curricular &amp; extra curricular activities, school buses, apart from certain essential covid appropriate norms, as cases steadily decline in Mumbai. (1/2) https://t.co/RS2wP5uVYF\\'b\\'Andrew Cuomo is trying to rehabilitate his career. Don\\\\xe2\\\\x80\\\\x99t forget there are still many investigations pending into his reckless and deadly leadership. He\\\\xe2\\\\x80\\\\x99s the guy that had his staff write a 5.1 M book in the middle of a pandemic and won an Emmy so this is not surprising.\\'b\\'We had a few months between when Biden promised there would be no vaccine mandates until he announced five federal vaccine mandates.\\\\n\\\\nThis week he pledged U.S. troops won\\\\xe2\\\\x80\\\\x99t be engaged in the conflict in Ukraine. https://t.co/67d9iO9VU4\\'b\"Bad news to start these Playoffs. I tested positive for COVID-19 yesterday and developed some symptoms. As a result, I\\'m now in isolation and out of the tournament. I won\\'t be able to coach the team in the mythic Spodek. This is very difficult to accept.\"b\\'LoL team hit with covid on superweek\\\\n\\\\nValorant team hit with covid on qualifier\\\\n\\\\nCsgo team hit with covid on quarter finals of IEM\\\\n\\\\ngods of victory are testing us but they can suck our dicks\\\\n\\\\nez trophy https://t.co/fpPOIWr0eM\\'b\\'Following a positive COVID test, @XTQZZZ will miss our game today due to isolation.\\\\n\\\\nGet well soon coach this trophy will be for you \\\\xf0\\\\x9f\\\\x92\\\\xaa https://t.co/S3oHJfZ4YF\\'b\"Deeply unsettling. 27 EU leaders got together in the night to approve their response to Russia, while  UK Cabinet sat in No10 in perfect isolation. We need to be back in the room. If you\\'re like minded: #FollowBackFriday\"b\\'Today at Polish Parliament Group on Ukraine @michaldworczyk from PM Office, confirmes that Polish border is open for ALL Ukrainians, even those without a valid ID document.\\\\n\\\\nNo COVID certificates, no insurance. Animals are welcome. We prepare for 1-4 million refugees in days. https://t.co/BuUUGcB8Iy\\'b\\'Last night family in Kyiv decided to try to run, hoping to protect their young. They had to leave elderly parents with covid, not knowing if they\\\\xe2\\\\x80\\\\x99ll see them again. The EU doesn\\\\xe2\\\\x80\\\\x99t want to sacrifice blood, fine. But not to sacrifice cash and comfort, that\\\\xe2\\\\x80\\\\x99s unconscionable. #SWIFT\\'b\\'I don\\\\xe2\\\\x80\\\\x99t agree with cancellation , but can you see how pathetic this site is, when the Taliban, Putin, Iranian regime and paedo sites can remain on here, but Dave from Billericay loses his account for questioning a vaccine or calling someone a name.\\\\nThey deleted Donald Trump. https://t.co/oG4DxmlSyv\\'b\"As a scientist I am very worried by the proliferation of public lies, fake news &amp; propaganda. #Putin\\'s absurd story that Ukraine \\\\xf0\\\\x9f\\\\x87\\\\xba\\\\xf0\\\\x9f\\\\x87\\\\xa6 is run by a nazi regime guilty of genocide, Trump\\'s daily lies, the conspiracy theories of climate and Covid deniers ... you name it.\"b\\'While the world took its eyes off Covid and looked towards Ukraine, this happened in America. \\\\n\\\\nhttps://t.co/KgWLYEYIC2\\'b\\'BREAKING NEWS | Russia has shutdown airspace to planes registered in the UK\\\\n\\\\nKeeps getting worse! \\\\xf0\\\\x9f\\\\x91\\\\x80\\\\xf0\\\\x9f\\\\x99\\\\x86\\\\xf0\\\\x9f\\\\x8f\\\\xbd\\\\xe2\\\\x80\\\\x8d\\\\xe2\\\\x99\\\\x82\\\\xef\\\\xb8\\\\x8f https://t.co/Fe9Ub92jIE\\'b\\'What ever happened to the deadliest pandemic ever ??? We were all going to die only a few weeks ago if we didn\\\\xe2\\\\x80\\\\x99t get boosted???\\'b\\'Is the U.K. Government\\\\xe2\\\\x80\\\\x99s response to Russia\\\\xe2\\\\x80\\\\x99s invasion of Ukraine going to the same as it\\\\xe2\\\\x80\\\\x99s response to Covid - lots of big talk and sound bites but devoid of anything to help those who need it most?\\'b\\'When the Corona/Covid pandemic first broke and we were all in lockdown, there was such a newfound feeling of support and caring for one another. I thought it was perhaps the beginning of a new way of living for us all, a much-needed mankind reboot, if you like.\\\\nHow na\\\\xc3\\\\xafve was I!\\'b\\'US - while we\\\\xe2\\\\x80\\\\x99re distracted, the Vaccine passport global ID system continues to be rolled out. For your own safety of course.\\\\n\\\\nIt hasn\\\\xe2\\\\x80\\\\x99t gone away, you\\\\xe2\\\\x80\\\\x99ve just stopped looking for it. \\\\n\\\\n#NoVaccineMandates #COVID \\\\n\\\\nhttps://t.co/ba76R2Hgxn\\'b\"Yes, no masks, no mitigations, no isolation, no contact tracing, and woefully low vaccination. You got what you wanted -85% of young children exposed to infection - let\\'s see how long that \\'natural immunity\\' lasts, given we\\'re already seeing re-infections now within 3 months. https://t.co/dcnEqthJ1m\"b\\'Will China be Putin\\\\xe2\\\\x80\\\\x99s economic lifeline, as Russia faces growing isolation over its invasion of Ukraine? https://t.co/C9ctbYbRk9 https://t.co/HrjUFwmyQQ\\'b\"Can\\'t believe we let so many of our kids get infected with covid.\\\\nWhat a massive gamble, the impact of which may not be fully known or understood any time soon (if ever).\"b\\'Aayushman bharat, Vaccination, every step India achieve praised by Bill gates, Sign that India is leading on the right path. https://t.co/oyY2u5puam\\'b\\'#Valimai is fantastic at the BO! Opened on a Record Note in Tamilnadu with a Post-pandemic Record Gross of over \\\\xe2\\\\x82\\\\xb930 Crores approximately on Day 1. All time 2nd Biggest in the state after #Sarkar (Diwali Release) https://t.co/YkhkMakbky\\'b\\'Unquestioned obedience and submission to obvious lies for the attainment of political power always leads to tragedy. America, has seen hundreds of thousands of our people suffer and die because of lies about a virus and vaccine. We have seen our democracy assaulted over lies\\'b\\'\\\\xf0\\\\x9f\\\\x91\\\\x8f\\\\xf0\\\\x9f\\\\x91\\\\x8f\\\\xf0\\\\x9f\\\\x91\\\\x8fCzech Republic \\\\xf0\\\\x9f\\\\x87\\\\xa8\\\\xf0\\\\x9f\\\\x87\\\\xbf for removing all COVID restrictions for entry for #Ukraine \\\\xf0\\\\x9f\\\\x87\\\\xba\\\\xf0\\\\x9f\\\\x87\\\\xa6 citizens https://t.co/2fndEBoA5X\\'b\"Trucker Convoy moves toward DC to protest Covid restrictions, but the Pentagon isn\\'t fucking around. They\\'ve authorized 400 National Guard troops, 50 tactical vehicles, and 300 more troops to come to the city. The Truckers are gonna find out they can\\'t fuck around in DC.\"b\\'The COMPLETE and TOTAL isolation of Russia and NOTHING less\\'b\\'The moment they lost control of the covid narrative.\\\\nCue a war.\\\\n\\\\nStraight from one crisis to the next. \\\\n\\\\nA scripted reality show sacrificing innocent lives for unquenchable greed.\\\\n\\\\nEndless power grabs.\\\\nNo accountability.\\\\nDevastated economies.\\\\n\\\\nNever give up freedom for fear. https://t.co/pUWPF3R0pa\\'b\\'The only practical and scientific solution of Ukraine crisis is Pfizer vaccine.\\\\n\\\\n- Chetan Bhagat\\'b\\'This an ordinary Ukrainian doctor who saved hundreds of lives during the pandemic. Today he\\\\xe2\\\\x80\\\\x99s with a gun \\\\xe2\\\\x80\\\\x94 to protect Ukraine\\\\xe2\\\\x80\\\\x99s capital from Nazi Russia. This is what Putin does to Ukrainians. BAN RUSSIA FROM EVERYWHERE, DESTROY PUTIN. https://t.co/2jTIazDrrZ\\'b\\'You know they lied to you about Covid, don\\\\xe2\\\\x80\\\\x99t start trusting the same media puppets on war now.\\'b\\'Paul Stirling was playing the final of the ICC Men\\\\xe2\\\\x80\\\\x99s T20 Qualifiers in Oman last night. \\\\n\\\\nHe is facing Shaheen Shah Afridi in front of a packed Lahore crowd tonight. \\\\n\\\\nFeels so unreal, esp in Covid times. \\\\n\\\\n#HBLPSL7\\'b\"Everyday someone announces that they are no longer enforcing an outdoor mask mandate, they are just telling you that they are the most incompetent policymaker ever \\\\n\\\\nThey don\\'t even know how the virus spreads\"b\\'Faheem injured, Hasan Ali limping off the field. Exactly a week to go before 1st Test vs Aus. Ek baar phir, Islamabad Pakistan ko barbaad karke chore ga.\\\\n(Can covid/nationality rules be tweaked to bring in Ben Stokes and Rabada as replacements?)\\'b\\'And just like that covid has suddenly more or less disappeared from the news cycle...\\'b\\'Tough times for Ruturaj continues - Bench in the T20 vs NZ, Bench in the ODI vs SA, COVID ahead of WI ODI series, Got one opportunity in the T20 vs WI, ruled out of SL T20 series due to an injury.\\'b\\'The thing that I find so baffling about Putin\\\\xe2\\\\x80\\\\x99s strategy is that it is achieving the opposite of what he wants: \\\\n\\\\n1. A disgraceful legacy.\\\\n2. Europeanisation of Ukraine.\\\\n3. Unity of the West.\\\\n4. Total isolation of Russia.\\\\n5. Rejuvenation of @Nato.\\\\n\\\\nWhy? Don\\\\xe2\\\\x80\\\\x99t understand.\\'b\\'According to new data out of John\\\\xe2\\\\x80\\\\x99s Hopkins University, daily COVID-19 cases have DROPPED 90% in the US since mid-January. Over a six-week period, new daily cases have DROPPED from more than 802,000 to FEWER than 80,000.\\'b\"School districts in California are standing up to Gavin Newsom\\'s tyrannical mask mandate. \\\\n\\\\nWe must support them and encourage more to join them \\\\xe2\\\\x9c\\\\x8a\"b\\'Attacks a sovereign nation.\\\\n\\\\nSlaughters civilians.\\\\n\\\\nPretending they are Nazi\\\\xe2\\\\x80\\\\x99s.\\\\n\\\\nCausing Ukrainian and Russian people to suffer.\\\\n\\\\nDestabilizes global economy.\\\\n\\\\nAll during a pandemic.\\\\n\\\\nAs Trump and Fox News cheer him on.\\\\n\\\\nPutin is a cold blooded killer.\\\\nHe must be eliminated.\\'b\\'Reduction of #LongCovid by 40-50% by vaccination in a matched control community-based study of &gt;3,000 vaccinees\\\\nhttps://t.co/0PTagyQm5P https://t.co/vzv9MMkzb2\\'b\\'I wrote an article in today\\\\xe2\\\\x80\\\\x99s New York Times, about the bad and good news about being a human:\\\\n\\\\nhttps://t.co/64T7WgFKzj https://t.co/h1OZPxI7Oz\\'b\\'The New Zealand Military and Police Have Just Won a High Court Decision Ruling COVID Vaccine Mandates to Be Illegal\\\\n\\\\n\"This is the beginning of the end of vaccine mandates in New Zealand.\" https://t.co/rGcs1iguxf\\'b\\'When real shit hits the fan, your vaccination status doesn\\\\xe2\\\\x80\\\\x99t matter.\\'b\\'Sturgeon knew the covid passport app failed data privacy laws but launched it anyway.\\\\n\\\\nWhy is she allowed to continually break the rules with impunity?\\\\n\\\\nhttps://t.co/Qe0EgcFuLr\\'b\"OK. Here are the Braves\\' OIBDA (operating income before depreciation and amortization) in non-championship years. And remember: The tax benefits of ownership are enormous, too.\\\\n\\\\n2018: $88 million \\\\n2019: $54 million\\\\n2020: -$53 million*\\\\n\\\\n* 2020 was a COVID-shortened 60-game season https://t.co/ZI00QNz5WL\"b\"A key judgement by Justice A. Pazaratz ruling in favour of a mother who doesn\\'t want the #COVID19 vax for her kids.\\\\n\\\\nCrucially, Pazaratz explains that it\\'s not illegal to question your government and think critically.\\\\n\\\\n https://t.co/uEhzvckPDa\"b\"Jab mandates were a distraction to get away from the Afghanistan pullout because at least their people liked the jabs. Now Ukraine is a distraction from the Covid data that\\'s unraveling their narrative.\"b\\'Which one of these three groups is trying to get drag queens in school and get people fired for not taking a vaccine https://t.co/A4I2MUAxYE\\'b\"Out of tomorrow\\'s game:\\\\n\\\\n\\\\xe2\\\\x80\\\\xa2 Thomas M\\\\xc3\\\\xbcller (Covid-19)\\\\n\\\\xe2\\\\x80\\\\xa2 Manuel Neuer (knee surgery)\\\\n\\\\xe2\\\\x80\\\\xa2 Alphonso Davies (myocarditis)\\\\n\\\\xe2\\\\x80\\\\xa2 Leon Goretzka (patellar tendon)\\\\n\\\\xe2\\\\x80\\\\xa2 Corentin Tolisso (hamstring strain)\\\\n\\\\xe2\\\\x80\\\\xa2 Bouna Sarr (knee problem)\"b\\'Honestly, whats the point of playing on LAN, if you cant play after getting tested positive to covid? I mean seriously, I dont enjoy watching events like this with teams using standins... Let the players play from hotel rooms or something, i am sure there is a way to fix that\\'b\\'Did you notice how COVID became replaced by Crimea in the blink of an eye?\\'b\\'NYC public schools are dropping the outdoor mask mandate starting next week. \\\\nSane states: Your kids were wearing masks outside?! https://t.co/DsTRdEwID4\\'b\\'When he bragged about sexual assault, they couldn\\\\xe2\\\\x80\\\\x99t defend him. So they were silent.\\\\nMocked a disabled reporter, golfed through a pandemic, plotted a coup, incited an insurrection- silent.\\\\nHe praised Putin for invading Ukraine.\\\\nWe can\\\\xe2\\\\x80\\\\x99t allow silence.\\\\nLet\\\\xe2\\\\x80\\\\x99s hear them defend that.\\'b\\'A German health insurer BKK ProVita said an analysis of data collected from more than 10 million people suggests COVID vaccine side effects are \\\\xe2\\\\x80\\\\x9csignificantly\\\\xe2\\\\x80\\\\x9d underreported.\\\\n\\\\nSIGN UP #TheDefender: https://t.co/zL66Edfiw5\\\\n\\\\nhttps://t.co/yaWnhCqsAs\\'b\\'Trudeau bought enough \\\\xe2\\\\x80\\\\x9cvaccines\\\\xe2\\\\x80\\\\x9d for every Canadian to get booster shots every three months until 2025. It appears most are uninterested in getting a third shot, let alone a fourth or a tenth. \\\\n\\\\nCovid hysteria is over. Covid fanatics are in full retreat everywhere.\\'b\\'\"The Prime Minister, who\\\\\\'d been dismissive of the protesters and largely absent.\"  holy shit.  Cmon 5th Estate, the PM addressed the convoy, pre EA there wasn\\\\\\'t much a PM could do, AND he had covid. You could have at least mentioned that. Christ.\\'b\\'Me landing in London to watch Nicki Minaj shutdown wireless fest https://t.co/Zw5hH4BNAh\\'b\\'Still extremely proud for not taking the vaccine.\\\\n\\\\nAs more information surfaces, my conspiracy theory ass is feeling mighty smart right about now.\\'b\\'A protest in Hong Kong\\\\xf0\\\\x9f\\\\x87\\\\xad\\\\xf0\\\\x9f\\\\x87\\\\xb0against war in Ukraine\\\\xf0\\\\x9f\\\\x87\\\\xba\\\\xf0\\\\x9f\\\\x87\\\\xa6amid tight covid &amp; demonstration restrictions, that\\\\xe2\\\\x80\\\\x99s why protesters were standing alone, one by one.\\\\n\\\\n\\\\xe2\\\\x80\\\\x9cI\\\\xe2\\\\x80\\\\x99m Russian I\\\\xe2\\\\x80\\\\x99m against war\\\\xe2\\\\x80\\\\x9d\\\\n\\\\xe2\\\\x80\\\\x9cThis crime against humanity has no justifications\\\\xe2\\\\x80\\\\x9d\\\\n\\\\nPhotos courtesy Egor Lyfar in Hong Kong. https://t.co/7buOEHU2Gz\\'b\\'The fact that there is an \\\\xe2\\\\x80\\\\x9coutdoor mask mandate\\\\xe2\\\\x80\\\\x9d at all is an embarrassment https://t.co/u6xFHxX3bW\\'',\n",
       "    'b\\'Depressing to see Covid denial follow exactly the same trajectory as climate denial:\\\\n&gt; It\\\\xe2\\\\x80\\\\x99s not real\\\\n&gt; It\\\\xe2\\\\x80\\\\x99s real but not bad\\\\n&gt; It\\\\xe2\\\\x80\\\\x99s real &amp; bad but there\\\\xe2\\\\x80\\\\x99s nothing we can do\\\\n&gt; We could do something but it would inconvenience us (&amp; mostly help the more vulnerable) so not worth it\\'b\"Ukraine\\\\xe2\\\\x80\\\\x99s U.N. envoy Sirgiy Kyslytsya likens Vladimir Putin to Adolf Hitler, calls the Russian president\\'s decision to put nuclear forces on high alert \\\\xe2\\\\x80\\\\x98madness\\\\xe2\\\\x80\\\\x99 https://t.co/gyYHI0BslX https://t.co/QlGetVN1z0\"b\\'I made it through a pandemic without being vaccinated or catching covid. The government said this wasn\\\\xe2\\\\x80\\\\x99t possible, yet here I am.\\'b\\'Over 7,000,000,000 of us trapped on a single terrestrial surface speculating about one mind and its decision making. Also a virus we aren\\\\xe2\\\\x80\\\\x99t allowed to ask questions about.\\\\n\\\\nLet\\\\xe2\\\\x80\\\\x99s try this again, from before COVID and Putin\\\\xe2\\\\x80\\\\x99s nuclear High Alert:\\\\n\\\\nhttps://t.co/WhZZi2WyRe\\'b\"Hilariously, the protestors and their cheerleaders claiming victory over the ending of isolation for inbound travellers don\\'t seem to have grasped that those travellers are subject to ... a vaccine mandate. \\\\xf0\\\\x9f\\\\x98\\\\x82\"b\\'What happens to all the people who were fired for not getting the vaccine now that vaccine mandates are being lifted?\\'b\\'They will drop some of the Covid infringements now that it\\\\xe2\\\\x80\\\\x99s politically convenient and necessary, but they want to reserve the right to bring them back when their \\\\xe2\\\\x80\\\\x9cscience\\\\xe2\\\\x80\\\\x9d of control warrants it. Not good enough. These infringements must be ended and rejected, period!!\\'b\\'Where has Dr. Fauci disappeared to as all the lockdowns, covid vaccine passports and masking he\\\\xe2\\\\x80\\\\x99s championed for two years suddenly vanish? He\\\\xe2\\\\x80\\\\x99s in media hiding. Good riddance. https://t.co/38I07mycHR\\'b\\'Public health has quietly adopted the Ron DeSantis and Joe Rogan approach to COVID, but they\\\\xe2\\\\x80\\\\x99ll never admit it.\\'b\\'The capacity of some folk to weave #Covid &amp; #Brexit into every situation, crisis, question and challenge we face must be so exhausting for them.\\\\nIt is certainly tedious for the rest of us.\\'b\\'Nearly two full years after it became clear that universal contact tracing was a futile exercise for covid, the CDC changes its guidelines today to acknowledge reality.  \\\\n \\\\nhttps://t.co/3uW6bdhDpI https://t.co/HMk4tvSgTx\\'b\"I got covid a few weeks ago &amp; I\\'m finally feeling better &amp; ready to get back to streaming, it was a rough time since I had just recovered from bronchitis too. Thank you for all your patience, I appreciate it a lot \\\\xf0\\\\x9f\\\\x98\\\\xad I\\'m looking forward to regularly tormenting your minds again \\\\xf0\\\\x9f\\\\x92\\\\x9c\"b\\'It\\\\xe2\\\\x80\\\\x99s a State of the Union miracle!\\\\n\\\\nhttps://t.co/OxW7ue6vIH\\'b\\'How to gain followers fast &amp; repeat what happened in COVID, but w/ a war \\\\n\\\\n1. Put Ukrainian flag in your name or bio. Extra points for both \\\\n\\\\n2. Call everyone who disagrees with the official war hawk narrative \\\\xe2\\\\x80\\\\x9cpro-Putin\\\\xe2\\\\x80\\\\x9d. Extra points if you unfollow them\\\\n\\\\n3. Insert dildo up ass\\'b\\'Based on recent studies, those of us who refused to take this vaccine have been fully vindicated \\\\xe2\\\\x9c\\\\x94\\'b\\'The political science on covid is dictating all the changes. All of it, the masking, the vaccine mandates, the lockdowns, all bullshit that did nothing. And the American public has finally realized this, hence the massive shift in covid policy. https://t.co/PIRn2BwRDo\\'b\\'2020: Race was the focus and bad guy used to divide us\\\\n\\\\n2020-2022: Covid was the bad guy and was used to divide us \\\\n\\\\n2022: Putin is the focus and the bad guy used to divide us \\\\n\\\\nEverything distracts us, next crisis makes the last one fade, nobody is held responsible\\'b\\'\"Your chance of getting COVID from an infected vaccinated person are exactly the same as your chance of getting COVID from an infected unvaccinated person.\"\\\\nGet the full @foxnation interview with medical ethicist @akheriaty at https://t.co/ZL0UVkBjt5 https://t.co/5sZ7XKuQ3U\\'b\\'The same people who pushed the pandemic on you, that most ate up \\\\n\\\\nAre the same ones controlling the narrative on Ukraine \\\\n\\\\nAnd many after waking up from the scamdemic are falling right back into the safe arms of the propaganda global regime \\\\n\\\\nIt\\\\xe2\\\\x80\\\\x99s incredible to watch\\'b\\'Renewed my driver\\\\xe2\\\\x80\\\\x99s license today and bought a muffin at a bakery.\\\\n\\\\nAll without wearing a mask.\\\\n\\\\nCovid is over, people.\\'b\\'This is not covid social distancing. This is a man afraid of his own officials. Bizarre. https://t.co/7uLQlutW2x\\'b\\'Now I see why CDC rushed to ditch masks on Friday before the data was released today (Monday) that unboosted, low dose vaccine in 5-11yo wasn\\\\xe2\\\\x80\\\\x99t that effective. That way we wouldn\\\\xe2\\\\x80\\\\x99t see the connection and realize no one cares about kids or their families\\'b\"The US is so influential in Ukraine that when a Russia-allied Ukrainian politician brokered a deal for Russia to provide free COVID vaccines, Zelensky said no -- along with the State Department. Why does the State Department get a say in Ukraine\\'s COVID vaccine policy? https://t.co/sFfwNkAgMR\"b\"President Biden\\'s leadership in the Ukraine crisis has been truly impressive, we\\'re coming out of the pandemic at last, and we have a fine Supreme Court nominee.\\\\n\\\\nSo Democrats are carping at what hasn\\'t been done and liberals are indulging in fatalistic navel-gazing.\\\\n\\\\nNaturally.\"b\\'witches astral projecting to Ukraine and immediately getting shredded by half-sane Russian hermit saints who were only by their isolation kept from actual cannibalism in this life https://t.co/lH1PQRXxwT\\'b\\'So when are we getting rid of the mask mandate on airplanes? Just wondering when the political science will grant us back the freedoms we should\\\\xe2\\\\x80\\\\x99ve never given up in the first place\\\\xe2\\\\x80\\\\xa6.\\'b\\'Why did hospitalized covid patients get sent back to nursing homes in Mar. 2020, spreading the disease among the vulnerable? This is because epidemiologists and public health authorities mistakenly thought it was more important to protect hospitals than to protect the vulnerable.\\'b\\'Reminder that @andrewcuomo piled over 9,000 infected patients into nursing homes, actively tried to cover it up, gave VIP covid tests when nursing homes weren\\\\xe2\\\\x80\\\\x99t allowed any, sold a 5.1 M book and his made staff write it, and sexually harassed many women. https://t.co/w3mgl4zQaZ\\'b\\'Aaron Taylor-Johnson on the cover of Hero Magazine.\\\\n\\\\nHe will be in conversation with Andrew Garfield about lockdown, Spider-Man, Kraven the Hunter, and more.\\\\n\\\\n(via: @atjarchive) https://t.co/jeXStJwAKv\\'b\\'Phew. Relieved that COVID is ending tomorrow.\\'b\\'Islam Makhachev wants to settle the score with Rafael dos Anjos on short notice. \\\\xf0\\\\x9f\\\\x98\\\\xb1\\\\n\\\\n#UFC272 | More: https://t.co/CBnby42Ui8 https://t.co/L2Ys3NQopX\\'b\\'Enormous NY state C19 vax effectiveness (VE) analysis reveals that for 5 to 11 year olds (n &gt;365K), VE becomes NEGATIVE, i.e., is associated with a 41%\\\\xe2\\\\x86\\\\x91 in SARCOV2 infections within 7-weeks, during the omicron wave https://t.co/8GLzyLJsMc https://t.co/1sq27M4Hu7\\'b\\'Just found out I have COVID :(\\'b\"In the past many politicians survived because of the short-term memory of most voters. A year goes by and no one remembers. \\\\n\\\\nIf you people think we\\'re forgetting Covid...\\\\n\\\\nIf you think we\\'re forgetting stolen elections, sham impeachments, Afghanistan, being called racists...1/2\"b\\'Rafael Fiziev is out of his #UFC272 co-main event fight against Rafael dos Anjos due to testing positive for COVID-19.\\\\n\\\\nThe UFC has not announced whether Dos Anjos will remain on the UFC 272 card. (via @BOkamotoESPN)\\\\n\\\\nFirst reported by @ArielHelwani https://t.co/h3AQqhbClL\\'b\\'2020 we booked our flights to spend Easter in Kharkiv and return a day before my birthday, because of lockdown we cancelled the trip . 2021 we were still on lockdown! 2022 seems I will never see the town my husband was born . He wanted to show me his motherland! #Kharkiv\\'b\\'\"Don\\\\\\'t tell me that is based on science. That is COVID theater,\" @GovRonDeSantis says on masking up employees when no one else is wearing a mask in a business.\\'b\\'Fox News\\\\\\' promotion of the Canadian truckers protest ultimately came to more than 27 hours (!) -- but the network still hasn\\\\\\'t told its audience the PM Trudeau relinquished the emergency powers its hosts said made him a \"dictator\" https://t.co/8wI1yzH42G https://t.co/mesJCSLVYy\\'b\\'Somewhere in America right now, there\\\\xe2\\\\x80\\\\x99s a Democrat happily taking a COVID test made in China after dumping out their Russian vodka in solidarity with Ukraine. \\\\xf0\\\\x9f\\\\xa4\\\\xa1\\'b\\'Funny how all the people who once used to post about all their friends and relatives dying of COVID now post about all their friends and relatives in Ukraine. Bad luck I guess.\\'b\\'Just trying to keep up. I\\\\xe2\\\\x80\\\\x99m:\\\\n\\\\n1: Responsible for the pandemic\\\\n2: Don\\\\xe2\\\\x80\\\\x99t deserve to work because of my vaccine status.\\\\n3: Trying to stop black people from voting.\\\\n\\\\nDon\\\\xe2\\\\x80\\\\x99t ever ask me to \\\\xe2\\\\x80\\\\x9crally around\\\\xe2\\\\x80\\\\x9d Joe Biden. I wouldn\\\\xe2\\\\x80\\\\x99t piss on Joe Biden if he was on fire. What a piece of trash. https://t.co/Sqy4kb4WAE\\'b\"Today I sat with a tearful, suicidal teenager talking through what was going on, with a mask on. A mask I don\\'t need; I don\\'t have covid. She repeatedly said \\'pardon\\' and it was so hard to communicate with her compassionately behind it. It has to end. GP\\'s need to unmask now.\"'])})"
      ]
     },
     "execution_count": 53,
     "metadata": {},
     "output_type": "execute_result"
    }
   ],
   "source": [
    "collect_all_x_and_y([225,228],[\"covid\"] ,\"data/SP500_constituents_update.csv\",[\"Materials\"])"
   ]
  },
  {
   "cell_type": "code",
   "execution_count": null,
   "metadata": {},
   "outputs": [],
   "source": []
  }
 ],
 "metadata": {
  "kernelspec": {
   "display_name": "Python 3",
   "language": "python",
   "name": "python3"
  },
  "language_info": {
   "codemirror_mode": {
    "name": "ipython",
    "version": 3
   },
   "file_extension": ".py",
   "mimetype": "text/x-python",
   "name": "python",
   "nbconvert_exporter": "python",
   "pygments_lexer": "ipython3",
   "version": "3.7.4"
  }
 },
 "nbformat": 4,
 "nbformat_minor": 2
}
