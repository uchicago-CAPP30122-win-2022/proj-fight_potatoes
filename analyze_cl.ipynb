{
 "cells": [
  {
   "cell_type": "code",
   "execution_count": 1,
   "metadata": {},
   "outputs": [
    {
     "name": "stderr",
     "output_type": "stream",
     "text": [
      "<frozen importlib._bootstrap>:219: RuntimeWarning: scipy._lib.messagestream.MessageStream size changed, may indicate binary incompatibility. Expected 56 from C header, got 64 from PyObject\n"
     ]
    }
   ],
   "source": [
    "from textblob import TextBlob\n",
    "import csv\n",
    "import pandas as pd\n",
    "import numpy as np\n",
    "import sklearn\n",
    "from sklearn.model_selection import train_test_split\n",
    "from sklearn.linear_model import LinearRegression\n",
    "import matplotlib.pyplot as plt\n",
    "import statsmodels.api as sm\n",
    "import seaborn as sb\n",
    "from sklearn.linear_model import LogisticRegression\n",
    "from sklearn.neighbors import KNeighborsClassifier\n",
    "from sklearn.model_selection import cross_val_score\n",
    "from sklearn.ensemble import RandomForestClassifier \n",
    "from sklearn.svm import SVC"
   ]
  },
  {
   "cell_type": "code",
   "execution_count": 3,
   "metadata": {},
   "outputs": [
    {
     "data": {
      "text/html": [
       "<div>\n",
       "<style scoped>\n",
       "    .dataframe tbody tr th:only-of-type {\n",
       "        vertical-align: middle;\n",
       "    }\n",
       "\n",
       "    .dataframe tbody tr th {\n",
       "        vertical-align: top;\n",
       "    }\n",
       "\n",
       "    .dataframe thead th {\n",
       "        text-align: right;\n",
       "    }\n",
       "</style>\n",
       "<table border=\"1\" class=\"dataframe\">\n",
       "  <thead>\n",
       "    <tr style=\"text-align: right;\">\n",
       "      <th></th>\n",
       "      <th>sentiment</th>\n",
       "      <th>subjectivity</th>\n",
       "    </tr>\n",
       "    <tr>\n",
       "      <th>date</th>\n",
       "      <th></th>\n",
       "      <th></th>\n",
       "    </tr>\n",
       "  </thead>\n",
       "  <tbody>\n",
       "    <tr>\n",
       "      <th>2022-02-09</th>\n",
       "      <td>0.030314</td>\n",
       "      <td>0.339559</td>\n",
       "    </tr>\n",
       "    <tr>\n",
       "      <th>2022-02-10</th>\n",
       "      <td>0.036832</td>\n",
       "      <td>0.328886</td>\n",
       "    </tr>\n",
       "    <tr>\n",
       "      <th>2022-02-11</th>\n",
       "      <td>0.032370</td>\n",
       "      <td>0.349874</td>\n",
       "    </tr>\n",
       "    <tr>\n",
       "      <th>2022-02-12</th>\n",
       "      <td>0.024390</td>\n",
       "      <td>0.329135</td>\n",
       "    </tr>\n",
       "    <tr>\n",
       "      <th>2022-02-13</th>\n",
       "      <td>0.031844</td>\n",
       "      <td>0.337820</td>\n",
       "    </tr>\n",
       "  </tbody>\n",
       "</table>\n",
       "</div>"
      ],
      "text/plain": [
       "            sentiment  subjectivity\n",
       "date                               \n",
       "2022-02-09   0.030314      0.339559\n",
       "2022-02-10   0.036832      0.328886\n",
       "2022-02-11   0.032370      0.349874\n",
       "2022-02-12   0.024390      0.329135\n",
       "2022-02-13   0.031844      0.337820"
      ]
     },
     "execution_count": 3,
     "metadata": {},
     "output_type": "execute_result"
    }
   ],
   "source": [
    "# sentiment analysis\n",
    "tweets1 = pd.read_csv(\"data/tweets_china_022122.csv\")\n",
    "tweets1.columns = [\"Date\",\"id1\",\"id2\",\"popularity\",\"content\"]\n",
    "tweets2 = pd.read_csv('data/tweets_china_021822.csv')\n",
    "tweets2.columns = [\"Date\",\"id1\",\"id2\",\"popularity\",\"content\"]\n",
    "tweets3 = pd.read_csv('data/tweets_china_021422.csv')\n",
    "tweets3.columns = [\"Date\",\"id1\",\"id2\",\"popularity\",\"content\"]\n",
    "tweets = pd.concat([tweets1, tweets2, tweets3], axis = 0)\n",
    "tweets = tweets.drop_duplicates()\n",
    "\n",
    "sent = []\n",
    "sub = []\n",
    "for tweet in tweets.content:    \n",
    "    blob = TextBlob(tweet)    \n",
    "    sent.append(blob.sentiment[0])\n",
    "    sub.append(blob.sentiment[1])\n",
    "\n",
    "# add to tweets df\n",
    "tweets['sentiment'] = pd.Series(sent)\n",
    "tweets['subjectivity'] = pd.Series(sub)\n",
    "\n",
    "# aggregate data by day\n",
    "tweets['date'] = pd.to_datetime(tweets['Date'])\n",
    "tweets['date'] = tweets['date'].dt.date\n",
    "\n",
    "tweets1 = tweets.groupby('date').agg('mean')\n",
    "# drop irrelevant cols\n",
    "tweets1.drop(['id1', 'id2'], axis = 1, inplace = True)\n",
    "tweets1.head()"
   ]
  },
  {
   "cell_type": "code",
   "execution_count": 4,
   "metadata": {},
   "outputs": [],
   "source": [
    "# read in sp500 data\n",
    "# sp 500 data\n",
    "sp = pd.read_csv('S&P 500 Historical Data.csv', header = 0, thousands=',')\n",
    "sp['date'] = pd.to_datetime(sp['Date'])\n",
    "sp['date'] = sp['date'].dt.date\n",
    "sp.drop('Date', axis = 1, inplace = True)\n",
    "\n",
    "# merge stock and tweet data\n",
    "df = tweets1.merge(sp, how = \"inner\", on = \"date\")\n",
    "# categorical dependent var\n",
    "inc_dec = []\n",
    "for i in df['Change %']:\n",
    "    ch = float(i.strip('%'))/100\n",
    "    if ch >= 0:\n",
    "        inc_dec.append(1)\n",
    "    elif ch < 0:\n",
    "        inc_dec.append(-1)\n",
    "\n",
    "df['change'] = pd.Series(inc_dec)"
   ]
  },
  {
   "cell_type": "code",
   "execution_count": 5,
   "metadata": {},
   "outputs": [
    {
     "data": {
      "image/png": "[encoded data removed]",
      "text/plain": [
       "<Figure size 432x288 with 1 Axes>"
      ]
     },
     "metadata": {
      "needs_background": "light"
     },
     "output_type": "display_data"
    }
   ],
   "source": [
    "# summary plots?\n",
    "plt.scatter(x = 'sentiment', y = 'Price', data = df, s = 100, alpha = 0.3, edgecolor = 'white')\n",
    "plt.title('Twitter Sentiments about China vs Stock Price', fontsize = 16)\n",
    "plt.ylabel('Stock Price ($)', fontsize = 12)\n",
    "plt.xlabel('Sentiment', fontsize = 12)\n",
    "plt.show()"
   ]
  },
  {
   "cell_type": "code",
   "execution_count": 7,
   "metadata": {},
   "outputs": [],
   "source": [
    "#split train/test data\n",
    "np.random.seed(5678)\n",
    "train, test = train_test_split(df, test_size = 0.2, random_state = 42)\n",
    "\n",
    "\n",
    "# build model\n",
    "y_train = train.pop('Price')\n",
    "x_train = train[['sentiment', 'subjectivity']]"
   ]
  },
  {
   "cell_type": "code",
   "execution_count": 8,
   "metadata": {},
   "outputs": [
    {
     "name": "stdout",
     "output_type": "stream",
     "text": [
      "Intercept:  3747.334587370061\n",
      "Coefficients:  [-2245.69789221  2255.19747366]\n"
     ]
    },
    {
     "data": {
      "image/png": "[encoded data removed]",
      "text/plain": [
       "<Figure size 432x288 with 1 Axes>"
      ]
     },
     "metadata": {
      "needs_background": "light"
     },
     "output_type": "display_data"
    }
   ],
   "source": [
    "#sklearn\n",
    "lr = LinearRegression()\n",
    "lr.fit(x_train,y_train)\n",
    "yhat = lr.predict(test[['sentiment', 'subjectivity']])\n",
    "print('Intercept: ', lr.intercept_)\n",
    "print('Coefficients: ', lr.coef_)\n",
    "#print('R-Squared :', lr.score(test[['sentiment', 'subjectivity']], test['Price']))\n",
    "\n",
    "sb.distplot(yhat, hist = False, color = 'r', label = 'Predicted Values')\n",
    "sb.distplot(test['Price'], hist = False, color = 'b', label = 'Actual Values')\n",
    "plt.title('Actual vs Predicted Values', fontsize = 16)\n",
    "plt.xlabel('Values', fontsize = 12)\n",
    "plt.ylabel('Frequency', fontsize = 12)\n",
    "plt.legend(loc = 'upper left', fontsize = 13)\n",
    "plt.show()\n",
    "#plt.savefig('ap.png')\n"
   ]
  },
  {
   "cell_type": "code",
   "execution_count": 9,
   "metadata": {},
   "outputs": [
    {
     "name": "stdout",
     "output_type": "stream",
     "text": [
      "                            OLS Regression Results                            \n",
      "==============================================================================\n",
      "Dep. Variable:                  Price   R-squared:                       0.005\n",
      "Model:                            OLS   Adj. R-squared:                 -0.393\n",
      "Method:                 Least Squares   F-statistic:                   0.01296\n",
      "Date:                Fri, 25 Feb 2022   Prob (F-statistic):              0.987\n",
      "Time:                        13:07:38   Log-Likelihood:                -45.518\n",
      "No. Observations:                   8   AIC:                             97.04\n",
      "Df Residuals:                       5   BIC:                             97.27\n",
      "Df Model:                           2                                         \n",
      "Covariance Type:            nonrobust                                         \n",
      "================================================================================\n",
      "                   coef    std err          t      P>|t|      [0.025      0.975]\n",
      "--------------------------------------------------------------------------------\n",
      "const         4286.4985   1174.585      3.649      0.015    1267.132    7305.865\n",
      "sentiment     -709.9877   4811.793     -0.148      0.888   -1.31e+04    1.17e+04\n",
      "subjectivity   550.3900   3770.894      0.146      0.890   -9143.001    1.02e+04\n",
      "==============================================================================\n",
      "Omnibus:                        0.605   Durbin-Watson:                   0.716\n",
      "Prob(Omnibus):                  0.739   Jarque-Bera (JB):                0.470\n",
      "Skew:                           0.462   Prob(JB):                        0.791\n",
      "Kurtosis:                       2.254   Cond. No.                         188.\n",
      "==============================================================================\n",
      "\n",
      "Notes:\n",
      "[1] Standard Errors assume that the covariance matrix of the errors is correctly specified.\n"
     ]
    },
    {
     "name": "stderr",
     "output_type": "stream",
     "text": [
      "/usr/local/lib/python3.8/dist-packages/scipy/stats/_stats_py.py:1477: UserWarning: kurtosistest only valid for n>=20 ... continuing anyway, n=8\n",
      "  warnings.warn(\"kurtosistest only valid for n>=20 ... continuing \"\n"
     ]
    }
   ],
   "source": [
    "#statsmodels\n",
    "x_var = df[['sentiment', 'subjectivity']]\n",
    "y_var = df['Price']\n",
    "\n",
    "sm_x_var = sm.add_constant(x_var)\n",
    "mlr_model = sm.OLS(y_var, sm_x_var)\n",
    "mlr_reg = mlr_model.fit()\n",
    "print(mlr_reg.summary())"
   ]
  },
  {
   "cell_type": "code",
   "execution_count": 16,
   "metadata": {},
   "outputs": [],
   "source": [
    "#split train/test data\n",
    "train, test = train_test_split(df, test_size = 0.2, random_state = 42)\n",
    "\n",
    "y_train = train.pop('change')\n",
    "x_train = train[['sentiment', 'subjectivity']]\n",
    "y_test = test.pop('change')\n",
    "x_test = test[['sentiment', 'subjectivity']]"
   ]
  },
  {
   "cell_type": "code",
   "execution_count": 17,
   "metadata": {},
   "outputs": [
    {
     "name": "stdout",
     "output_type": "stream",
     "text": [
      "0.6666666666666666\n"
     ]
    }
   ],
   "source": [
    "# knn\n",
    "neigh = KNeighborsClassifier(n_neighbors=2)\n",
    "neigh.fit(x_train, y_train) \n",
    "neigh.score(x_test, y_test)\n",
    "neigh_cv = cross_val_score(neigh, x_train, y_train, cv=2) \n",
    "print(neigh_cv.mean()) "
   ]
  },
  {
   "cell_type": "code",
   "execution_count": 18,
   "metadata": {},
   "outputs": [
    {
     "name": "stdout",
     "output_type": "stream",
     "text": [
      "0.6666666666666666\n"
     ]
    }
   ],
   "source": [
    "# logit\n",
    "logreg = LogisticRegression(random_state=42)\n",
    "logreg.fit(x_train, y_train)\n",
    "logreg.score(x_test, y_test)\n",
    "logreg_cv = cross_val_score(logreg, x_train, y_train, cv=2)\n",
    "print(logreg_cv.mean())"
   ]
  },
  {
   "cell_type": "code",
   "execution_count": 19,
   "metadata": {},
   "outputs": [
    {
     "name": "stdout",
     "output_type": "stream",
     "text": [
      "0.6666666666666666\n"
     ]
    }
   ],
   "source": [
    "# svm\n",
    "svm_linear = SVC( kernel = 'linear')\n",
    "svm_linear.fit(x_train, y_train)\n",
    "svm_linear.score(x_test, y_test)\n",
    "svm_linear_cv = cross_val_score(svm_linear, x_train, y_train, cv=2)\n",
    "print(svm_linear_cv.mean())"
   ]
  },
  {
   "cell_type": "code",
   "execution_count": 20,
   "metadata": {},
   "outputs": [
    {
     "name": "stdout",
     "output_type": "stream",
     "text": [
      "0.16666666666666666\n"
     ]
    }
   ],
   "source": [
    "# random forest\n",
    "forest_reg = RandomForestClassifier(random_state=42)\n",
    "forest_reg.fit(x_train, y_train)\n",
    "forest_reg.score(x_test, y_test)\n",
    "forest_reg_cv = cross_val_score(forest_reg, x_train, y_train, cv=2) \n",
    "print(forest_reg_cv.mean())  "
   ]
  }
 ],
 "metadata": {
  "kernelspec": {
   "display_name": "Python 3",
   "language": "python",
   "name": "python3"
  },
  "language_info": {
   "codemirror_mode": {
    "name": "ipython",
    "version": 3
   },
   "file_extension": ".py",
   "mimetype": "text/x-python",
   "name": "python",
   "nbconvert_exporter": "python",
   "pygments_lexer": "ipython3",
   "version": "3.8.5"
  },
  "orig_nbformat": 4
 },
 "nbformat": 4,
 "nbformat_minor": 2
}
