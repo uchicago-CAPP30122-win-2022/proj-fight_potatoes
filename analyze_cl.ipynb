{
 "cells": [
  {
   "cell_type": "code",
   "execution_count": 1,
   "metadata": {},
   "outputs": [
    {
     "name": "stderr",
     "output_type": "stream",
     "text": [
      "<frozen importlib._bootstrap>:219: RuntimeWarning: scipy._lib.messagestream.MessageStream size changed, may indicate binary incompatibility. Expected 56 from C header, got 64 from PyObject\n"
     ]
    }
   ],
   "source": [
    "from textblob import TextBlob\n",
    "import csv\n",
    "import pandas as pd\n",
    "import numpy as np\n",
    "import sklearn\n",
    "from sklearn.model_selection import train_test_split\n",
    "from sklearn.linear_model import LinearRegression\n",
    "import matplotlib.pyplot as plt\n",
    "import statsmodels.api as sm\n",
    "import seaborn as sb"
   ]
  },
  {
   "cell_type": "code",
   "execution_count": 5,
   "metadata": {},
   "outputs": [
    {
     "data": {
      "text/html": [
       "<div>\n",
       "<style scoped>\n",
       "    .dataframe tbody tr th:only-of-type {\n",
       "        vertical-align: middle;\n",
       "    }\n",
       "\n",
       "    .dataframe tbody tr th {\n",
       "        vertical-align: top;\n",
       "    }\n",
       "\n",
       "    .dataframe thead th {\n",
       "        text-align: right;\n",
       "    }\n",
       "</style>\n",
       "<table border=\"1\" class=\"dataframe\">\n",
       "  <thead>\n",
       "    <tr style=\"text-align: right;\">\n",
       "      <th></th>\n",
       "      <th>sentiment</th>\n",
       "      <th>subjectivity</th>\n",
       "    </tr>\n",
       "    <tr>\n",
       "      <th>date</th>\n",
       "      <th></th>\n",
       "      <th></th>\n",
       "    </tr>\n",
       "  </thead>\n",
       "  <tbody>\n",
       "    <tr>\n",
       "      <th>2022-02-15</th>\n",
       "      <td>0.031779</td>\n",
       "      <td>0.354042</td>\n",
       "    </tr>\n",
       "    <tr>\n",
       "      <th>2022-02-16</th>\n",
       "      <td>0.029718</td>\n",
       "      <td>0.340753</td>\n",
       "    </tr>\n",
       "    <tr>\n",
       "      <th>2022-02-17</th>\n",
       "      <td>0.027079</td>\n",
       "      <td>0.319380</td>\n",
       "    </tr>\n",
       "    <tr>\n",
       "      <th>2022-02-18</th>\n",
       "      <td>0.045980</td>\n",
       "      <td>0.353310</td>\n",
       "    </tr>\n",
       "    <tr>\n",
       "      <th>2022-02-19</th>\n",
       "      <td>0.023320</td>\n",
       "      <td>0.332724</td>\n",
       "    </tr>\n",
       "  </tbody>\n",
       "</table>\n",
       "</div>"
      ],
      "text/plain": [
       "            sentiment  subjectivity\n",
       "date                               \n",
       "2022-02-15   0.031779      0.354042\n",
       "2022-02-16   0.029718      0.340753\n",
       "2022-02-17   0.027079      0.319380\n",
       "2022-02-18   0.045980      0.353310\n",
       "2022-02-19   0.023320      0.332724"
      ]
     },
     "execution_count": 5,
     "metadata": {},
     "output_type": "execute_result"
    }
   ],
   "source": [
    "# sentiment analysis\n",
    "tweets = pd.read_csv(\"data/tweets_china_022122.csv\")\n",
    "tweets.columns = [\"Date\",\"id1\",\"id2\",\"popularity\",\"content\"]\n",
    "\n",
    "sent = []\n",
    "sub = []\n",
    "for tweet in tweets.content:    \n",
    "    blob = TextBlob(tweet)    \n",
    "    sent.append(blob.sentiment[0])\n",
    "    sub.append(blob.sentiment[1])\n",
    "\n",
    "# add to tweets df\n",
    "tweets['sentiment'] = pd.Series(sent)\n",
    "tweets['subjectivity'] = pd.Series(sub)\n",
    "\n",
    "# aggregate data by day\n",
    "tweets['date'] = pd.to_datetime(tweets['Date'])\n",
    "tweets['date'] = tweets['date'].dt.date\n",
    "\n",
    "tweets1 = tweets.groupby('date').agg('mean')\n",
    "# drop irrelevant cols\n",
    "tweets1.drop(['id1', 'id2'], axis = 1, inplace = True)\n",
    "tweets1.head()"
   ]
  },
  {
   "cell_type": "code",
   "execution_count": 6,
   "metadata": {},
   "outputs": [],
   "source": [
    "# read in sp500 data\n",
    "# sp 500 data\n",
    "sp = pd.read_csv('S&P 500 Historical Data.csv', header = 0, thousands=',')\n",
    "sp['date'] = pd.to_datetime(sp['Date'])\n",
    "sp['date'] = sp['date'].dt.date\n",
    "sp.drop('Date', axis = 1, inplace = True)\n",
    "\n",
    "# merge stock and tweet data\n",
    "df = tweets1.merge(sp, how = \"inner\", on = \"date\")"
   ]
  },
  {
   "cell_type": "code",
   "execution_count": 7,
   "metadata": {},
   "outputs": [
    {
     "data": {
      "image/png": "[encoded data removed]",
      "text/plain": [
       "<Figure size 432x288 with 1 Axes>"
      ]
     },
     "metadata": {
      "needs_background": "light"
     },
     "output_type": "display_data"
    }
   ],
   "source": [
    "# summary plots?\n",
    "plt.scatter(x = 'sentiment', y = 'Price', data = df, s = 100, alpha = 0.3, edgecolor = 'white')\n",
    "plt.title('Twitter Sentiments about China vs Stock Price', fontsize = 16)\n",
    "plt.ylabel('Stock Price ($)', fontsize = 12)\n",
    "plt.xlabel('Sentiment', fontsize = 12)\n",
    "plt.show()"
   ]
  },
  {
   "cell_type": "code",
   "execution_count": 8,
   "metadata": {},
   "outputs": [],
   "source": [
    "#split train/test data\n",
    "np.random.seed(5678)\n",
    "train, test = train_test_split(df, test_size = 0.1, random_state = 42)\n",
    "\n",
    "\n",
    "# build model\n",
    "y_train = train.pop('Price')\n",
    "x_train = train[['sentiment', 'subjectivity']]"
   ]
  },
  {
   "cell_type": "code",
   "execution_count": 9,
   "metadata": {},
   "outputs": [
    {
     "name": "stdout",
     "output_type": "stream",
     "text": [
      "Intercept:  3406.9986790060702\n",
      "Coefficients:  [-8411.24283201  3760.49664533]\n"
     ]
    },
    {
     "name": "stderr",
     "output_type": "stream",
     "text": [
      "/usr/local/lib/python3.8/dist-packages/numpy/core/_methods.py:264: RuntimeWarning: Degrees of freedom <= 0 for slice\n",
      "  ret = _var(a, axis=axis, dtype=dtype, out=out, ddof=ddof,\n",
      "/usr/local/lib/python3.8/dist-packages/numpy/core/_methods.py:256: RuntimeWarning: invalid value encountered in double_scalars\n",
      "  ret = ret.dtype.type(ret / rcount)\n"
     ]
    },
    {
     "data": {
      "image/png": "[encoded data removed]",
      "text/plain": [
       "<Figure size 432x288 with 1 Axes>"
      ]
     },
     "metadata": {
      "needs_background": "light"
     },
     "output_type": "display_data"
    }
   ],
   "source": [
    "#sklearn\n",
    "lr = LinearRegression()\n",
    "lr.fit(x_train,y_train)\n",
    "yhat = lr.predict(test[['sentiment', 'subjectivity']])\n",
    "print('Intercept: ', lr.intercept_)\n",
    "print('Coefficients: ', lr.coef_)\n",
    "#print('R-Squared :', lr.score(test[['sentiment', 'subjectivity']], test['Price']))\n",
    "\n",
    "sb.distplot(yhat, hist = False, color = 'r', label = 'Predicted Values')\n",
    "sb.distplot(test['Price'], hist = False, color = 'b', label = 'Actual Values')\n",
    "plt.title('Actual vs Predicted Values', fontsize = 16)\n",
    "plt.xlabel('Values', fontsize = 12)\n",
    "plt.ylabel('Frequency', fontsize = 12)\n",
    "plt.legend(loc = 'upper left', fontsize = 13)\n",
    "plt.show()\n",
    "#plt.savefig('ap.png')\n"
   ]
  },
  {
   "cell_type": "code",
   "execution_count": 10,
   "metadata": {},
   "outputs": [
    {
     "name": "stdout",
     "output_type": "stream",
     "text": [
      "                            OLS Regression Results                            \n",
      "==============================================================================\n",
      "Dep. Variable:                  Price   R-squared:                       0.930\n",
      "Model:                            OLS   Adj. R-squared:                  0.789\n",
      "Method:                 Least Squares   F-statistic:                     6.605\n",
      "Date:                Wed, 23 Feb 2022   Prob (F-statistic):              0.265\n",
      "Time:                        18:26:05   Log-Likelihood:                -16.425\n",
      "No. Observations:                   4   AIC:                             38.85\n",
      "Df Residuals:                       1   BIC:                             37.01\n",
      "Df Model:                           2                                         \n",
      "Covariance Type:            nonrobust                                         \n",
      "================================================================================\n",
      "                   coef    std err          t      P>|t|      [0.025      0.975]\n",
      "--------------------------------------------------------------------------------\n",
      "const         3344.2378    422.912      7.908      0.080   -2029.365    8717.841\n",
      "sentiment    -9479.2024   2669.824     -3.550      0.175   -4.34e+04    2.44e+04\n",
      "subjectivity  4075.9107   1393.585      2.925      0.210   -1.36e+04    2.18e+04\n",
      "==============================================================================\n",
      "Omnibus:                          nan   Durbin-Watson:                   3.063\n",
      "Prob(Omnibus):                    nan   Jarque-Bera (JB):                0.516\n",
      "Skew:                           0.713   Prob(JB):                        0.773\n",
      "Kurtosis:                       1.971   Cond. No.                         206.\n",
      "==============================================================================\n",
      "\n",
      "Notes:\n",
      "[1] Standard Errors assume that the covariance matrix of the errors is correctly specified.\n"
     ]
    },
    {
     "name": "stderr",
     "output_type": "stream",
     "text": [
      "/home/crliu/.local/lib/python3.8/site-packages/statsmodels/stats/stattools.py:74: ValueWarning: omni_normtest is not valid with less than 8 observations; 4 samples were given.\n",
      "  warn(\"omni_normtest is not valid with less than 8 observations; %i \"\n"
     ]
    }
   ],
   "source": [
    "#statsmodels\n",
    "x_var = df[['sentiment', 'subjectivity']]\n",
    "y_var = df['Price']\n",
    "\n",
    "sm_x_var = sm.add_constant(x_var)\n",
    "mlr_model = sm.OLS(y_var, sm_x_var)\n",
    "mlr_reg = mlr_model.fit()\n",
    "print(mlr_reg.summary())"
   ]
  }
 ],
 "metadata": {
  "kernelspec": {
   "display_name": "Python 3",
   "language": "python",
   "name": "python3"
  },
  "language_info": {
   "codemirror_mode": {
    "name": "ipython",
    "version": 3
   },
   "file_extension": ".py",
   "mimetype": "text/x-python",
   "name": "python",
   "nbconvert_exporter": "python",
   "pygments_lexer": "ipython3",
   "version": "3.8.5"
  },
  "orig_nbformat": 4
 },
 "nbformat": 4,
 "nbformat_minor": 2
}
