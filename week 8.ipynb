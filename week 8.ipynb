{
 "cells": [
  {
   "cell_type": "code",
   "execution_count": 2,
   "metadata": {},
   "outputs": [],
   "source": [
    "from textblob import TextBlob\n",
    "import csv\n",
    "import os\n",
    "import math\n",
    "import pandas as pd\n",
    "import numpy as np\n",
    "import sklearn\n",
    "from sklearn.model_selection import train_test_split\n",
    "from sklearn.linear_model import LinearRegression\n",
    "import matplotlib.pyplot as plt\n",
    "import statsmodels.api as sm\n",
    "import seaborn as sb\n",
    "from sklearn.linear_model import LogisticRegression\n",
    "from sklearn.neighbors import KNeighborsClassifier\n",
    "from sklearn.svm import SVC\n",
    "from sklearn.model_selection import cross_val_score\n",
    "from sklearn.ensemble import RandomForestClassifier \n",
    "\n"
   ]
  },
  {
   "cell_type": "code",
   "execution_count": 3,
   "metadata": {},
   "outputs": [],
   "source": [
    "# read in all covid data\n",
    "tweets = pd.DataFrame()\n",
    "for file in os.listdir('data'):\n",
    "    if 'covid' in file:\n",
    "        tweets = pd.concat([tweets, pd.read_csv(os.path.join('data',\n",
    "        file), names = [\"Date\", \"id1\", \"id2\", \"popularity\", \"content\"])], axis = 0)\n",
    "tweets.drop_duplicates(inplace = True)\n",
    "\n"
   ]
  },
  {
   "cell_type": "code",
   "execution_count": 5,
   "metadata": {},
   "outputs": [],
   "source": [
    "sent = []\n",
    "sub = []\n",
    "for tweet in tweets.content:    \n",
    "    blob = TextBlob(tweet)    \n",
    "    sent.append(blob.sentiment[0])\n",
    "    sub.append(blob.sentiment[1])"
   ]
  },
  {
   "cell_type": "code",
   "execution_count": 6,
   "metadata": {},
   "outputs": [],
   "source": [
    "# add to tweets df\n",
    "tweets['sentiment'] = pd.Series(sent)\n",
    "tweets['subjectivity'] = pd.Series(sub)\n",
    "\n",
    "# aggregate data by day\n",
    "tweets['date'] = pd.to_datetime(tweets['Date'])\n",
    "tweets['date'] = tweets['date'].dt.date\n"
   ]
  },
  {
   "cell_type": "code",
   "execution_count": 7,
   "metadata": {},
   "outputs": [],
   "source": [
    "# remove neutral tweets and aggregate by day\n",
    "tweets1 = tweets[(tweets[['sentiment']] != 0).all(axis=1)]\n",
    "tweets1 = tweets1.groupby('date').agg('mean')\n",
    "# drop irrelevant cols\n",
    "tweets1.drop(['id1', 'id2'], axis = 1, inplace = True)\n",
    "\n"
   ]
  },
  {
   "cell_type": "code",
   "execution_count": 8,
   "metadata": {},
   "outputs": [],
   "source": [
    "# sp 500 data\n",
    "sp = pd.read_csv('S&P 500 Historical Data update.csv', header = 0, thousands=',')\n",
    "sp['date'] = pd.to_datetime(sp['Date'])\n",
    "sp['date'] = sp['date'].dt.date\n",
    "sp.drop('Date', axis = 1, inplace = True)"
   ]
  },
  {
   "cell_type": "code",
   "execution_count": 10,
   "metadata": {},
   "outputs": [],
   "source": [
    "# merge stock and tweet data\n",
    "df = tweets1.merge(sp, how = \"inner\", on = \"date\")"
   ]
  },
  {
   "cell_type": "code",
   "execution_count": 11,
   "metadata": {},
   "outputs": [],
   "source": [
    "# categorical dependent var\n",
    "inc_dec = []\n",
    "for i in df['Change %']:\n",
    "    ch = float(i.strip('%'))/100\n",
    "    if ch >= 0:\n",
    "        inc_dec.append(1)\n",
    "    elif ch < 0:\n",
    "        inc_dec.append(0)"
   ]
  },
  {
   "cell_type": "markdown",
   "metadata": {},
   "source": [
    "The 'Predicted_change' - into the dataframe with a simple pandas operation:\n",
    "\n",
    "Previous day's 'Compound_multiplied_scaled' should predict next day's 'Pct_change'."
   ]
  },
  {
   "cell_type": "code",
   "execution_count": 12,
   "metadata": {},
   "outputs": [],
   "source": [
    "df['change'] = pd.Series(inc_dec)"
   ]
  },
  {
   "cell_type": "markdown",
   "metadata": {},
   "source": [
    "Create another 'label' -column - 'Buy/Sell' - which is 1 if 'Predicted_change' is positive (=buy) and -1 if negative (=sell)"
   ]
  },
  {
   "cell_type": "code",
   "execution_count": 14,
   "metadata": {},
   "outputs": [],
   "source": [
    "forecast_col = 'change'\n",
    "forecast_out = int(math.ceil(0.125 * len(df)))\n",
    "df['Predicted_change_stock'] = df[forecast_col].shift(-forecast_out)\n",
    "buy_or_sell = []\n",
    "for row in df['change']:\n",
    "    if row >= 0:\n",
    "        buy_or_sell.append(1)\n",
    "    elif row < 0:\n",
    "        buy_or_sell.append(-1) "
   ]
  },
  {
   "cell_type": "code",
   "execution_count": 15,
   "metadata": {},
   "outputs": [],
   "source": [
    "#Adds -1 or +1 to the column based on if 'Predicted_change' is negative or positive\n",
    "df['Buy/Sell'] = buy_or_sell\n",
    "\n",
    "# The 'Buy/Sell' values need to be shifted up one row to match the 'Predicted_change' values\n",
    "df['Buy/Sell'] = df['Buy/Sell'].shift(-1)"
   ]
  },
  {
   "cell_type": "code",
   "execution_count": 16,
   "metadata": {},
   "outputs": [
    {
     "data": {
      "text/html": [
       "<div>\n",
       "<style scoped>\n",
       "    .dataframe tbody tr th:only-of-type {\n",
       "        vertical-align: middle;\n",
       "    }\n",
       "\n",
       "    .dataframe tbody tr th {\n",
       "        vertical-align: top;\n",
       "    }\n",
       "\n",
       "    .dataframe thead th {\n",
       "        text-align: right;\n",
       "    }\n",
       "</style>\n",
       "<table border=\"1\" class=\"dataframe\">\n",
       "  <thead>\n",
       "    <tr style=\"text-align: right;\">\n",
       "      <th></th>\n",
       "      <th>date</th>\n",
       "      <th>sentiment</th>\n",
       "      <th>subjectivity</th>\n",
       "      <th>Price</th>\n",
       "      <th>Open</th>\n",
       "      <th>High</th>\n",
       "      <th>Low</th>\n",
       "      <th>Vol.</th>\n",
       "      <th>Change %</th>\n",
       "      <th>change</th>\n",
       "      <th>Predicted_change_stock</th>\n",
       "      <th>Buy/Sell</th>\n",
       "    </tr>\n",
       "  </thead>\n",
       "  <tbody>\n",
       "    <tr>\n",
       "      <td>0</td>\n",
       "      <td>2022-02-14</td>\n",
       "      <td>0.082815</td>\n",
       "      <td>0.505213</td>\n",
       "      <td>4401.67</td>\n",
       "      <td>4412.61</td>\n",
       "      <td>4426.22</td>\n",
       "      <td>4364.84</td>\n",
       "      <td>-</td>\n",
       "      <td>-0.38%</td>\n",
       "      <td>0</td>\n",
       "      <td>1.0</td>\n",
       "      <td>1.0</td>\n",
       "    </tr>\n",
       "    <tr>\n",
       "      <td>1</td>\n",
       "      <td>2022-02-15</td>\n",
       "      <td>0.082815</td>\n",
       "      <td>0.505216</td>\n",
       "      <td>4471.07</td>\n",
       "      <td>4429.28</td>\n",
       "      <td>4472.77</td>\n",
       "      <td>4429.28</td>\n",
       "      <td>-</td>\n",
       "      <td>1.58%</td>\n",
       "      <td>1</td>\n",
       "      <td>1.0</td>\n",
       "      <td>1.0</td>\n",
       "    </tr>\n",
       "    <tr>\n",
       "      <td>2</td>\n",
       "      <td>2022-02-16</td>\n",
       "      <td>0.082824</td>\n",
       "      <td>0.505226</td>\n",
       "      <td>4475.01</td>\n",
       "      <td>4455.75</td>\n",
       "      <td>4489.55</td>\n",
       "      <td>4429.68</td>\n",
       "      <td>-</td>\n",
       "      <td>0.09%</td>\n",
       "      <td>1</td>\n",
       "      <td>0.0</td>\n",
       "      <td>1.0</td>\n",
       "    </tr>\n",
       "    <tr>\n",
       "      <td>3</td>\n",
       "      <td>2022-02-17</td>\n",
       "      <td>0.082817</td>\n",
       "      <td>0.505220</td>\n",
       "      <td>4380.26</td>\n",
       "      <td>4456.06</td>\n",
       "      <td>4456.06</td>\n",
       "      <td>4373.81</td>\n",
       "      <td>-</td>\n",
       "      <td>-2.12%</td>\n",
       "      <td>0</td>\n",
       "      <td>0.0</td>\n",
       "      <td>1.0</td>\n",
       "    </tr>\n",
       "    <tr>\n",
       "      <td>4</td>\n",
       "      <td>2022-02-18</td>\n",
       "      <td>0.082264</td>\n",
       "      <td>0.505493</td>\n",
       "      <td>4348.87</td>\n",
       "      <td>4384.57</td>\n",
       "      <td>4394.60</td>\n",
       "      <td>4327.22</td>\n",
       "      <td>-</td>\n",
       "      <td>-0.72%</td>\n",
       "      <td>0</td>\n",
       "      <td>0.0</td>\n",
       "      <td>1.0</td>\n",
       "    </tr>\n",
       "    <tr>\n",
       "      <td>5</td>\n",
       "      <td>2022-02-22</td>\n",
       "      <td>0.083558</td>\n",
       "      <td>0.506902</td>\n",
       "      <td>4304.74</td>\n",
       "      <td>4332.74</td>\n",
       "      <td>4362.12</td>\n",
       "      <td>4267.11</td>\n",
       "      <td>-</td>\n",
       "      <td>-1.01%</td>\n",
       "      <td>0</td>\n",
       "      <td>0.0</td>\n",
       "      <td>1.0</td>\n",
       "    </tr>\n",
       "    <tr>\n",
       "      <td>6</td>\n",
       "      <td>2022-02-23</td>\n",
       "      <td>0.084422</td>\n",
       "      <td>0.503225</td>\n",
       "      <td>4225.50</td>\n",
       "      <td>4324.93</td>\n",
       "      <td>4341.51</td>\n",
       "      <td>4221.51</td>\n",
       "      <td>-</td>\n",
       "      <td>-1.84%</td>\n",
       "      <td>0</td>\n",
       "      <td>1.0</td>\n",
       "      <td>1.0</td>\n",
       "    </tr>\n",
       "    <tr>\n",
       "      <td>7</td>\n",
       "      <td>2022-02-24</td>\n",
       "      <td>0.085117</td>\n",
       "      <td>0.503595</td>\n",
       "      <td>4288.70</td>\n",
       "      <td>4155.77</td>\n",
       "      <td>4294.73</td>\n",
       "      <td>4114.65</td>\n",
       "      <td>-</td>\n",
       "      <td>1.50%</td>\n",
       "      <td>1</td>\n",
       "      <td>NaN</td>\n",
       "      <td>NaN</td>\n",
       "    </tr>\n",
       "  </tbody>\n",
       "</table>\n",
       "</div>"
      ],
      "text/plain": [
       "         date  sentiment  subjectivity    Price     Open     High      Low  \\\n",
       "0  2022-02-14   0.082815      0.505213  4401.67  4412.61  4426.22  4364.84   \n",
       "1  2022-02-15   0.082815      0.505216  4471.07  4429.28  4472.77  4429.28   \n",
       "2  2022-02-16   0.082824      0.505226  4475.01  4455.75  4489.55  4429.68   \n",
       "3  2022-02-17   0.082817      0.505220  4380.26  4456.06  4456.06  4373.81   \n",
       "4  2022-02-18   0.082264      0.505493  4348.87  4384.57  4394.60  4327.22   \n",
       "5  2022-02-22   0.083558      0.506902  4304.74  4332.74  4362.12  4267.11   \n",
       "6  2022-02-23   0.084422      0.503225  4225.50  4324.93  4341.51  4221.51   \n",
       "7  2022-02-24   0.085117      0.503595  4288.70  4155.77  4294.73  4114.65   \n",
       "\n",
       "  Vol. Change %  change  Predicted_change_stock  Buy/Sell  \n",
       "0    -   -0.38%       0                     1.0       1.0  \n",
       "1    -    1.58%       1                     1.0       1.0  \n",
       "2    -    0.09%       1                     0.0       1.0  \n",
       "3    -   -2.12%       0                     0.0       1.0  \n",
       "4    -   -0.72%       0                     0.0       1.0  \n",
       "5    -   -1.01%       0                     0.0       1.0  \n",
       "6    -   -1.84%       0                     1.0       1.0  \n",
       "7    -    1.50%       1                     NaN       NaN  "
      ]
     },
     "execution_count": 16,
     "metadata": {},
     "output_type": "execute_result"
    }
   ],
   "source": [
    "df"
   ]
  },
  {
   "cell_type": "code",
   "execution_count": 17,
   "metadata": {},
   "outputs": [],
   "source": [
    "#split train/test data\n",
    "train, test = train_test_split(df, test_size = 0.25, random_state = 42)\n",
    "\n",
    "y_train = train.pop('change')\n",
    "x_train = train[['sentiment', 'subjectivity']]\n",
    "y_test = test.pop('change')\n",
    "x_test = test[['sentiment', 'subjectivity']]"
   ]
  },
  {
   "cell_type": "code",
   "execution_count": 18,
   "metadata": {},
   "outputs": [
    {
     "name": "stderr",
     "output_type": "stream",
     "text": [
      "/Users/Daiii/anaconda3/lib/python3.7/site-packages/sklearn/linear_model/logistic.py:432: FutureWarning: Default solver will be changed to 'lbfgs' in 0.22. Specify a solver to silence this warning.\n",
      "  FutureWarning)\n"
     ]
    },
    {
     "data": {
      "text/plain": [
       "0.5"
      ]
     },
     "execution_count": 18,
     "metadata": {},
     "output_type": "execute_result"
    }
   ],
   "source": [
    "# from sklearn.linear_model import LogisticRegression\n",
    "\n",
    "logreg = LogisticRegression(random_state=42)\n",
    "logreg.fit(x_train, y_train)\n",
    "logreg.score( x_test, y_test)"
   ]
  },
  {
   "cell_type": "markdown",
   "metadata": {},
   "source": [
    "Accuracy after cross validation"
   ]
  },
  {
   "cell_type": "code",
   "execution_count": 21,
   "metadata": {},
   "outputs": [
    {
     "name": "stdout",
     "output_type": "stream",
     "text": [
      "0.6666666666666666\n"
     ]
    },
    {
     "name": "stderr",
     "output_type": "stream",
     "text": [
      "/Users/Daiii/anaconda3/lib/python3.7/site-packages/sklearn/linear_model/logistic.py:432: FutureWarning: Default solver will be changed to 'lbfgs' in 0.22. Specify a solver to silence this warning.\n",
      "  FutureWarning)\n",
      "/Users/Daiii/anaconda3/lib/python3.7/site-packages/sklearn/linear_model/logistic.py:432: FutureWarning: Default solver will be changed to 'lbfgs' in 0.22. Specify a solver to silence this warning.\n",
      "  FutureWarning)\n"
     ]
    }
   ],
   "source": [
    "logreg_cv = cross_val_score(logreg, x_train, y_train, cv=2)\n",
    "print(logreg_cv.mean())"
   ]
  },
  {
   "cell_type": "code",
   "execution_count": 25,
   "metadata": {},
   "outputs": [
    {
     "data": {
      "text/plain": [
       "-14.088303000339842"
      ]
     },
     "execution_count": 25,
     "metadata": {},
     "output_type": "execute_result"
    }
   ],
   "source": [
    "linear= LinearRegression()\n",
    "linear.fit(x_train, y_train)\n",
    "linear.score( x_test, y_test)"
   ]
  },
  {
   "cell_type": "code",
   "execution_count": 26,
   "metadata": {},
   "outputs": [
    {
     "name": "stdout",
     "output_type": "stream",
     "text": [
      "-0.9999999999999999\n"
     ]
    }
   ],
   "source": [
    "linarreg_cv = cross_val_score(linear, x_train, y_train, cv=2)\n",
    "print(linarreg_cv .mean())"
   ]
  },
  {
   "cell_type": "code",
   "execution_count": null,
   "metadata": {},
   "outputs": [],
   "source": []
  }
 ],
 "metadata": {
  "kernelspec": {
   "display_name": "Python 3",
   "language": "python",
   "name": "python3"
  },
  "language_info": {
   "codemirror_mode": {
    "name": "ipython",
    "version": 3
   },
   "file_extension": ".py",
   "mimetype": "text/x-python",
   "name": "python",
   "nbconvert_exporter": "python",
   "pygments_lexer": "ipython3",
   "version": "3.7.4"
  }
 },
 "nbformat": 4,
 "nbformat_minor": 2
}
