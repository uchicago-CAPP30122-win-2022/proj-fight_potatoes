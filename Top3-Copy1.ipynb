{
 "cells": [
  {
   "cell_type": "code",
   "execution_count": 17,
   "id": "58649a9f",
   "metadata": {
    "scrolled": true
   },
   "outputs": [],
   "source": [
    "import pandas as pd\n",
    "\n",
    "import csv"
   ]
  },
  {
   "cell_type": "code",
   "execution_count": 18,
   "id": "21ac74a4",
   "metadata": {},
   "outputs": [],
   "source": [
    "\n",
    "df = pd.read_csv('/Users/siwenchen/Desktop/proj-fight_potatoes-master/test_output.csv')"
   ]
  },
  {
   "cell_type": "code",
   "execution_count": 19,
   "id": "4d4f397a",
   "metadata": {},
   "outputs": [],
   "source": [
    "def each_model(df,model_name):\n",
    "    '''\n",
    "    Input: a model name \n",
    "    \n",
    "    Output: a list of top 3 sectors\n",
    "    \n",
    "    \n",
    "    '''\n",
    "    result= df[df[\"model\"] == model_name].sort_values(by=[\"R2\"],ascending=False)\n",
    "    top_3 = []\n",
    "    for i in result[\"sector\"]:\n",
    "        if i not in top_3:\n",
    "            if len(top_3) != 9:\n",
    "                top_3.append(\"  \")\n",
    "                top_3.append(i)\n",
    "                top_3.append(\"/\")\n",
    "    return top_3"
   ]
  },
  {
   "cell_type": "code",
   "execution_count": 20,
   "id": "c9ebf9b5",
   "metadata": {
    "scrolled": true
   },
   "outputs": [],
   "source": [
    "def GetTheTopThreeSectors(df):\n",
    "    '''\n",
    "    This function collect a pandas dataframe.\n",
    "    For each topic(china/covid),\n",
    "    we will get the top 3 sectors that have the highest \n",
    "    R-square under different model\n",
    "    \n",
    "    Input:a pandas dataframe\n",
    "    Output: a pandas dataframe shows the top 3 sectors with the topic and model\n",
    "    \n",
    "    '''\n",
    "    # List 1\n",
    "    topic = ['China','China','China','China',\"Covid\",\"Covid\",\"Covid\",\"Covid\"]\n",
    "    \n",
    "    # List 2\n",
    "    classifer = ['Linear','Logit','KNN','SVMLinear','Linear','Logit','KNN','SVMLinear']\n",
    "    \n",
    "    #list 3 \n",
    "    \n",
    "    top_3_sectors = []\n",
    "    df = df[df[\"sector\"] != \"All Sectors\"]\n",
    "    china_df = df[df[\"topic\"] == \"china\"]\n",
    "    \n",
    "        \n",
    "    top_3_sectors.append(tuple(each_model(china_df,\"linear\")))\n",
    "    \n",
    "    top_3_sectors.append(tuple(each_model(china_df,\"logistic\")))\n",
    "            \n",
    "    top_3_sectors.append(tuple(each_model(china_df,\"KNN\")))\n",
    "    \n",
    "    top_3_sectors.append(tuple(each_model(china_df,\"SVM\")))\n",
    "\n",
    "    covid_df = df[df[\"topic\"] == \"covid\"]   \n",
    "    \n",
    "    top_3_sectors.append(tuple(each_model(covid_df,\"linear\")))\n",
    "    \n",
    "    top_3_sectors.append(tuple(each_model(covid_df,\"logistic\")))\n",
    "            \n",
    "    top_3_sectors.append(tuple(each_model(covid_df,\"KNN\")))\n",
    "    \n",
    "    top_3_sectors.append(tuple(each_model(covid_df,\"SVM\")))\n",
    "    \n",
    "    \n",
    "    # and merge them by using zip().  \n",
    "    list_tuples = list(zip(topic, classifer,top_3_sectors)) \n",
    "    new_list_tuples = '  '.join(str(list_tuples))\n",
    "    \n",
    "    # Converting lists of tuples into pandas Dataframe.  \n",
    "    dframe = pd.DataFrame(list_tuples, columns=['topic', 'classifier',\"top 3 sectors\"])  \n",
    "    \n",
    "    return dframe\n"
   ]
  },
  {
   "cell_type": "code",
   "execution_count": 21,
   "id": "17dda7f6",
   "metadata": {},
   "outputs": [
    {
     "data": {
      "text/html": [
       "<div>\n",
       "<style scoped>\n",
       "    .dataframe tbody tr th:only-of-type {\n",
       "        vertical-align: middle;\n",
       "    }\n",
       "\n",
       "    .dataframe tbody tr th {\n",
       "        vertical-align: top;\n",
       "    }\n",
       "\n",
       "    .dataframe thead th {\n",
       "        text-align: right;\n",
       "    }\n",
       "</style>\n",
       "<table border=\"1\" class=\"dataframe\">\n",
       "  <thead>\n",
       "    <tr style=\"text-align: right;\">\n",
       "      <th></th>\n",
       "      <th>topic</th>\n",
       "      <th>classifier</th>\n",
       "      <th>top 3 sectors</th>\n",
       "    </tr>\n",
       "  </thead>\n",
       "  <tbody>\n",
       "    <tr>\n",
       "      <th>0</th>\n",
       "      <td>China</td>\n",
       "      <td>Linear</td>\n",
       "      <td>(  , Energy, /,   , Utilities, /,   , Real Est...</td>\n",
       "    </tr>\n",
       "    <tr>\n",
       "      <th>1</th>\n",
       "      <td>China</td>\n",
       "      <td>Logit</td>\n",
       "      <td>(  , Energy, /,   , Industrials, /,   , Inform...</td>\n",
       "    </tr>\n",
       "    <tr>\n",
       "      <th>2</th>\n",
       "      <td>China</td>\n",
       "      <td>KNN</td>\n",
       "      <td>(  , Energy, /,   , Utilities, /,   , Communic...</td>\n",
       "    </tr>\n",
       "    <tr>\n",
       "      <th>3</th>\n",
       "      <td>China</td>\n",
       "      <td>SVMLinear</td>\n",
       "      <td>(  , Energy, /,   , Materials, /,   , Informat...</td>\n",
       "    </tr>\n",
       "    <tr>\n",
       "      <th>4</th>\n",
       "      <td>Covid</td>\n",
       "      <td>Linear</td>\n",
       "      <td>(  , Information Technology, /,   , Communicat...</td>\n",
       "    </tr>\n",
       "    <tr>\n",
       "      <th>5</th>\n",
       "      <td>Covid</td>\n",
       "      <td>Logit</td>\n",
       "      <td>(  , Industrials, /,   , Materials, /,   , Inf...</td>\n",
       "    </tr>\n",
       "    <tr>\n",
       "      <th>6</th>\n",
       "      <td>Covid</td>\n",
       "      <td>KNN</td>\n",
       "      <td>(  , Consumer Discretionary, /,   , Utilities,...</td>\n",
       "    </tr>\n",
       "    <tr>\n",
       "      <th>7</th>\n",
       "      <td>Covid</td>\n",
       "      <td>SVMLinear</td>\n",
       "      <td>(  , Industrials, /,   , Energy, /,   , Inform...</td>\n",
       "    </tr>\n",
       "  </tbody>\n",
       "</table>\n",
       "</div>"
      ],
      "text/plain": [
       "   topic classifier                                      top 3 sectors\n",
       "0  China     Linear  (  , Energy, /,   , Utilities, /,   , Real Est...\n",
       "1  China      Logit  (  , Energy, /,   , Industrials, /,   , Inform...\n",
       "2  China        KNN  (  , Energy, /,   , Utilities, /,   , Communic...\n",
       "3  China  SVMLinear  (  , Energy, /,   , Materials, /,   , Informat...\n",
       "4  Covid     Linear  (  , Information Technology, /,   , Communicat...\n",
       "5  Covid      Logit  (  , Industrials, /,   , Materials, /,   , Inf...\n",
       "6  Covid        KNN  (  , Consumer Discretionary, /,   , Utilities,...\n",
       "7  Covid  SVMLinear  (  , Industrials, /,   , Energy, /,   , Inform..."
      ]
     },
     "execution_count": 21,
     "metadata": {},
     "output_type": "execute_result"
    }
   ],
   "source": [
    "GetTheTopThreeSectors(df)"
   ]
  },
  {
   "cell_type": "code",
   "execution_count": 22,
   "id": "1d3fdd78",
   "metadata": {},
   "outputs": [
    {
     "name": "stdout",
     "output_type": "stream",
     "text": [
      "Dash is running on http://127.0.0.1:8050/\n",
      "\n",
      "Dash is running on http://127.0.0.1:8050/\n",
      "\n",
      " * Serving Flask app \"__main__\" (lazy loading)\n",
      " * Environment: production\n",
      "\u001b[31m   WARNING: This is a development server. Do not use it in a production deployment.\u001b[0m\n",
      "\u001b[2m   Use a production WSGI server instead.\u001b[0m\n",
      " * Debug mode: off\n"
     ]
    },
    {
     "name": "stderr",
     "output_type": "stream",
     "text": [
      " * Running on http://127.0.0.1:8050/ (Press CTRL+C to quit)\n",
      "127.0.0.1 - - [16/Mar/2022 11:15:22] \"GET / HTTP/1.1\" 200 -\n",
      "127.0.0.1 - - [16/Mar/2022 11:15:22] \"GET /_dash-layout HTTP/1.1\" 200 -\n",
      "127.0.0.1 - - [16/Mar/2022 11:15:22] \"GET /_dash-dependencies HTTP/1.1\" 200 -\n",
      "127.0.0.1 - - [16/Mar/2022 11:15:22] \"GET /_dash-component-suites/dash/dash_table/async-highlight.js HTTP/1.1\" 200 -\n",
      "127.0.0.1 - - [16/Mar/2022 11:15:22] \"GET /_dash-component-suites/dash/dash_table/async-table.js HTTP/1.1\" 200 -\n"
     ]
    }
   ],
   "source": [
    "import dash_html_components as html\n",
    "from dash import Dash, dash_table\n",
    "import pandas as pd\n",
    "\n",
    "result = GetTheTopThreeSectors(df)\n",
    "\n",
    "app = Dash(__name__)\n",
    "\n",
    "app.layout = html.Div([\n",
    "html.H1(\"Accuracy of each classifier per sector — Top 5\", style={'textAlign': 'center', 'color': '#7FDBFF'}),\n",
    "dash_table.DataTable(result.to_dict('records'), [{\"name\": i, \"id\": i} for i in result.columns])])\n",
    "\n",
    "\n",
    "if __name__ == '__main__':\n",
    "    app.run_server()\n"
   ]
  },
  {
   "cell_type": "code",
   "execution_count": null,
   "id": "727e4f15",
   "metadata": {},
   "outputs": [],
   "source": []
  },
  {
   "cell_type": "code",
   "execution_count": null,
   "id": "ef750364",
   "metadata": {},
   "outputs": [],
   "source": []
  }
 ],
 "metadata": {
  "kernelspec": {
   "display_name": "Python 3 (ipykernel)",
   "language": "python",
   "name": "python3"
  },
  "language_info": {
   "codemirror_mode": {
    "name": "ipython",
    "version": 3
   },
   "file_extension": ".py",
   "mimetype": "text/x-python",
   "name": "python",
   "nbconvert_exporter": "python",
   "pygments_lexer": "ipython3",
   "version": "3.9.7"
  }
 },
 "nbformat": 4,
 "nbformat_minor": 5
}
